{
 "cells": [
  {
   "cell_type": "code",
   "execution_count": null,
   "metadata": {},
   "outputs": [],
   "source": [
    "#vegalite test\n",
    "# from vega import VegaLite\n",
    "# vsp={'$schema': 'https://vega.github.io/schema/vega-lite/v4.json',\n",
    "#     'mark': {'type': 'point', 'tooltip': True},\n",
    "#     'encoding': {'x': {'field': 'Production Budget',\n",
    "#       'type': 'quantitative',\n",
    "#       'axis': {'format': 's'}},\n",
    "#      'y': {'field': 'Rotten Tomatoes Rating',\n",
    "#       'type': 'quantitative',\n",
    "#       'axis': {'format': 's'}},\n",
    "#      'tooltip': {'field': 'Title'}},\n",
    "#     'transform': [{'filter': 'lower(datum[\"Worldwide Gross\"]) > 100000000.0'},\n",
    "#      {'filter': {'field': 'Genre', 'oneOf': ['Action']}}],\n",
    "#     'data': {'url': '../../assets/data/movies-w-year.csv',\n",
    "#      'format': {'type': 'csv'}}}\n",
    "# VegaLite(vsp)"
   ]
  },
  {
   "cell_type": "markdown",
   "metadata": {},
   "source": [
    "### Initialize NL4DV## Imports ### Set dependency parser"
   ]
  },
  {
   "cell_type": "code",
   "execution_count": 4,
   "metadata": {},
   "outputs": [],
   "source": [
    "# import os\n",
    "# import pdb\n",
    "# from nl4dv import NL4DV\n",
    "\n",
    "# nl4dv_instance = NL4DV(debug=False,verbose=False,alias_url=\"/Users/panbo/Library/Mobile Documents/com~apple~CloudDocs/Documents/VIS/nl4dv_modify/examples/assets/aliases/movies-w-year.json\",data_url=\"/Users/panbo/Library/Mobile Documents/com~apple~CloudDocs/Documents/VIS/nl4dv_modify/examples/assets/data/movies-w-year.csv\")\n",
    "# dependency_parser_config = {'name': 'corenlp','model': \"/Users/panbo/Library/Mobile Documents/com~apple~CloudDocs/Documents/VIS/nl4dv_modify/examples/assets/jars/stanford-english-corenlp-2018-10-05-models.jar\",'parser': \"/Users/panbo/Library/Mobile Documents/com~apple~CloudDocs/Documents/VIS/nl4dv_modify/examples/assets/jars/stanford-parser.jar\"}\n",
    "# nl4dv_instance.set_dependency_parser(config=dependency_parser_config)\n",
    "# # nl4dv_instance.analyze_query(\"Show the between budget and rating for Action and movies that grossed over 100M\")\n",
    "# # nl4dv_instance.analyze_query(\"create a barchart showing average gross across genres\")\n",
    "# nl4dv_instance.analyze_query(\"create a barchart showing average gross across genres\")"
   ]
  },
  {
   "cell_type": "code",
   "execution_count": 13,
   "metadata": {},
   "outputs": [
    {
     "name": "stdout",
     "output_type": "stream",
     "text": [
      "normal query\n",
      "-----Data Transform---------\n",
      "[]\n"
     ]
    },
    {
     "data": {
      "application/javascript": [
       "const spec = {\"$schema\": \"https://vega.github.io/schema/vega-lite/v4.json\", \"mark\": {\"type\": \"bar\", \"tooltip\": true}, \"encoding\": {\"y\": {\"field\": \"Worldwide Gross\", \"type\": \"quantitative\", \"aggregate\": \"mean\", \"axis\": {\"format\": \"s\"}}, \"x\": {\"field\": \"Genre\", \"type\": \"nominal\"}}, \"transform\": [], \"data\": {\"url\": \"../../assets/data/movies-w-year.csv\", \"format\": {\"type\": \"csv\"}}};\n",
       "const opt = {};\n",
       "const type = \"vega-lite\";\n",
       "const id = \"4b6e47aa-9222-4551-b2bc-839934783fd7\";\n",
       "\n",
       "const output_area = this;\n",
       "\n",
       "require([\"nbextensions/jupyter-vega/index\"], function(vega) {\n",
       "  const target = document.createElement(\"div\");\n",
       "  target.id = id;\n",
       "  target.className = \"vega-embed\";\n",
       "\n",
       "  const style = document.createElement(\"style\");\n",
       "  style.textContent = [\n",
       "    \".vega-embed .error p {\",\n",
       "    \"  color: firebrick;\",\n",
       "    \"  font-size: 14px;\",\n",
       "    \"}\",\n",
       "  ].join(\"\\\\n\");\n",
       "\n",
       "  // element is a jQuery wrapped DOM element inside the output area\n",
       "  // see http://ipython.readthedocs.io/en/stable/api/generated/\\\n",
       "  // IPython.display.html#IPython.display.Javascript.__init__\n",
       "  element[0].appendChild(target);\n",
       "  element[0].appendChild(style);\n",
       "\n",
       "  vega.render(\"#\" + id, spec, type, opt, output_area);\n",
       "}, function (err) {\n",
       "  if (err.requireType !== \"scripterror\") {\n",
       "    throw(err);\n",
       "  }\n",
       "});\n"
      ],
      "text/plain": [
       "<vega.vegalite.VegaLite at 0x7f8458ab7550>"
      ]
     },
     "execution_count": 13,
     "metadata": {
      "jupyter-vega": "#4b6e47aa-9222-4551-b2bc-839934783fd7"
     },
     "output_type": "execute_result"
    },
    {
     "data": {
      "image/png": "[encoded data removed]"
     },
     "metadata": {
      "jupyter-vega": "#4b6e47aa-9222-4551-b2bc-839934783fd7"
     },
     "output_type": "display_data"
    }
   ],
   "source": [
    "import sys  \n",
    "sys.path.append(\"../../../\")\n",
    "from nl4dv import NL4DV\n",
    "\n",
    "nl4dv_instance = NL4DV(debug=False,verbose=False,alias_url=os.path.join(\"..\",\"..\",\"assets\",\"aliases\",\"movies-w-year.json\"),data_url=os.path.join(\"..\",\"..\",\"assets\",\"data\",\"movies-w-year.csv\"))\n",
    "dependency_parser_config = {'name': 'corenlp','model': os.path.join(\"..\",\"..\",\"assets\",\"jars\",\"stanford-english-corenlp-2018-10-05-models.jar\"),'parser': os.path.join(\"..\",\"..\",\"assets\",\"jars\",\"stanford-parser.jar\")}\n",
    "nl4dv_instance.set_dependency_parser(config=dependency_parser_config)\n",
    "# nl4dv_instance.analyze_query(\"Show the between budget and rating for Action and movies that grossed over 100M\")\n",
    "# nl4dv_instance.render_vis(\"create a barchart showing max gross across genres\")\n",
    "nl4dv_instance.render_vis(\"create a barchart showing average gross across genres\")\n",
    "\n"
   ]
  },
  {
   "cell_type": "markdown",
   "metadata": {},
   "source": [
    "### Execute Query"
   ]
  },
  {
   "cell_type": "code",
   "execution_count": 8,
   "metadata": {},
   "outputs": [
    {
     "data": {
      "text/plain": [
       "{'query_raw': '@',\n",
       " 'query': '@',\n",
       " 'dataset': '../../assets/data/movies-w-year.csv',\n",
       " 'alias': '../../assets/aliases/movies-w-year.json',\n",
       " 'visList': [],\n",
       " 'attributeMap': {},\n",
       " 'taskMap': {},\n",
       " 'followUpQuery': False,\n",
       " 'contextObj': None}"
      ]
     },
     "execution_count": 8,
     "metadata": {},
     "output_type": "execute_result"
    }
   ],
   "source": [
    "nl4dv_instance.analyze_query(\"@\")"
   ]
  },
  {
   "cell_type": "markdown",
   "metadata": {},
   "source": [
    "## Dialog test1"
   ]
  },
  {
   "cell_type": "code",
   "execution_count": null,
   "metadata": {},
   "outputs": [],
   "source": [
    "MAGIC CMD: CLEAR\n",
    "{'query_raw': 'MAGIC CMD: CLEAR',\n",
    " 'query': 'MAGIC CMD: CLEAR',\n",
    " 'dataset': '../../assets/data/movies-w-year.csv',\n",
    " 'alias': '../../assets/aliases/movies-w-year.json',\n",
    " 'visList': [],\n",
    " 'attributeMap': {},\n",
    " 'taskMap': {},\n",
    " 'followUpQuery': False,\n",
    " 'contextObj': None}"
   ]
  },
  {
   "cell_type": "code",
   "execution_count": 1,
   "metadata": {},
   "outputs": [],
   "source": [
    "import os\n",
    "import pdb\n",
    "from nl4dv import NL4DV\n",
    "\n",
    "nl4dv_instance = NL4DV(debug=False,verbose=False,alias_url=os.path.join(\"..\",\"..\",\"assets\",\"aliases\",\"movies-w-year.json\"),data_url=os.path.join(\"..\",\"..\",\"assets\",\"data\",\"movies-w-year.csv\"))\n",
    "dependency_parser_config = {'name': 'corenlp','model': os.path.join(\"..\",\"..\",\"assets\",\"jars\",\"stanford-english-corenlp-2018-10-05-models.jar\"),'parser': os.path.join(\"..\",\"..\",\"assets\",\"jars\",\"stanford-parser.jar\")}\n",
    "nl4dv_instance.set_dependency_parser(config=dependency_parser_config)"
   ]
  },
  {
   "cell_type": "code",
   "execution_count": 2,
   "metadata": {
    "collapsed": true
   },
   "outputs": [
    {
     "name": "stdout",
     "output_type": "stream",
     "text": [
      "normal query\n",
      "-----Data Transform---------\n",
      "[{'filter': {'field': 'Creative Type', 'oneOf': ['Science Fiction']}}]\n"
     ]
    },
    {
     "data": {
      "application/javascript": [
       "const spec = {\"$schema\": \"https://vega.github.io/schema/vega-lite/v4.json\", \"mark\": {\"type\": \"bar\", \"tooltip\": true}, \"encoding\": {\"y\": {\"field\": \"Worldwide Gross\", \"type\": \"quantitative\", \"aggregate\": \"mean\", \"axis\": {\"format\": \"s\"}}, \"x\": {\"field\": \"Genre\", \"type\": \"nominal\"}}, \"transform\": [{\"filter\": {\"field\": \"Creative Type\", \"oneOf\": [\"Science Fiction\"]}}], \"data\": {\"url\": \"../../assets/data/movies-w-year.csv\", \"format\": {\"type\": \"csv\"}}};\n",
       "const opt = {};\n",
       "const type = \"vega-lite\";\n",
       "const id = \"78bcb813-1396-40ff-92d7-ec983e2f6274\";\n",
       "\n",
       "const output_area = this;\n",
       "\n",
       "require([\"nbextensions/jupyter-vega/index\"], function(vega) {\n",
       "  const target = document.createElement(\"div\");\n",
       "  target.id = id;\n",
       "  target.className = \"vega-embed\";\n",
       "\n",
       "  const style = document.createElement(\"style\");\n",
       "  style.textContent = [\n",
       "    \".vega-embed .error p {\",\n",
       "    \"  color: firebrick;\",\n",
       "    \"  font-size: 14px;\",\n",
       "    \"}\",\n",
       "  ].join(\"\\\\n\");\n",
       "\n",
       "  // element is a jQuery wrapped DOM element inside the output area\n",
       "  // see http://ipython.readthedocs.io/en/stable/api/generated/\\\n",
       "  // IPython.display.html#IPython.display.Javascript.__init__\n",
       "  element[0].appendChild(target);\n",
       "  element[0].appendChild(style);\n",
       "\n",
       "  vega.render(\"#\" + id, spec, type, opt, output_area);\n",
       "}, function (err) {\n",
       "  if (err.requireType !== \"scripterror\") {\n",
       "    throw(err);\n",
       "  }\n",
       "});\n"
      ],
      "text/plain": [
       "<vega.vegalite.VegaLite at 0x7fc6783f7490>"
      ]
     },
     "execution_count": 2,
     "metadata": {
      "jupyter-vega": "#78bcb813-1396-40ff-92d7-ec983e2f6274"
     },
     "output_type": "execute_result"
    },
    {
     "data": {
      "image/png": "[encoded data removed]"
     },
     "metadata": {
      "jupyter-vega": "#78bcb813-1396-40ff-92d7-ec983e2f6274"
     },
     "output_type": "display_data"
    }
   ],
   "source": [
    "nl4dv_instance.render_vis(\"Show average gross across genres for science fiction\")"
   ]
  },
  {
   "cell_type": "code",
   "execution_count": 3,
   "metadata": {
    "collapsed": true
   },
   "outputs": [
    {
     "name": "stdout",
     "output_type": "stream",
     "text": [
      "a follow up query!\n",
      "-----Data Transform---------\n",
      "[{'filter': {'field': 'Creative Type', 'oneOf': ['Science Fiction']}}, {'filter': {'field': 'Creative Type', 'oneOf': ['Fantasy']}}]\n"
     ]
    },
    {
     "data": {
      "application/javascript": [
       "const spec = {\"$schema\": \"https://vega.github.io/schema/vega-lite/v4.json\", \"mark\": {\"type\": \"bar\", \"tooltip\": true}, \"encoding\": {\"y\": {\"field\": \"Worldwide Gross\", \"type\": \"quantitative\", \"aggregate\": \"mean\", \"axis\": {\"format\": \"s\"}}, \"x\": {\"field\": \"Genre\", \"type\": \"nominal\"}}, \"transform\": [{\"filter\": {\"field\": \"Creative Type\", \"oneOf\": [\"Science Fiction\"]}}, {\"filter\": {\"field\": \"Creative Type\", \"oneOf\": [\"Fantasy\"]}}], \"data\": {\"url\": \"../../assets/data/movies-w-year.csv\", \"format\": {\"type\": \"csv\"}}};\n",
       "const opt = {};\n",
       "const type = \"vega-lite\";\n",
       "const id = \"75cd2035-e705-405a-a304-ef015980b6fa\";\n",
       "\n",
       "const output_area = this;\n",
       "\n",
       "require([\"nbextensions/jupyter-vega/index\"], function(vega) {\n",
       "  const target = document.createElement(\"div\");\n",
       "  target.id = id;\n",
       "  target.className = \"vega-embed\";\n",
       "\n",
       "  const style = document.createElement(\"style\");\n",
       "  style.textContent = [\n",
       "    \".vega-embed .error p {\",\n",
       "    \"  color: firebrick;\",\n",
       "    \"  font-size: 14px;\",\n",
       "    \"}\",\n",
       "  ].join(\"\\\\n\");\n",
       "\n",
       "  // element is a jQuery wrapped DOM element inside the output area\n",
       "  // see http://ipython.readthedocs.io/en/stable/api/generated/\\\n",
       "  // IPython.display.html#IPython.display.Javascript.__init__\n",
       "  element[0].appendChild(target);\n",
       "  element[0].appendChild(style);\n",
       "\n",
       "  vega.render(\"#\" + id, spec, type, opt, output_area);\n",
       "}, function (err) {\n",
       "  if (err.requireType !== \"scripterror\") {\n",
       "    throw(err);\n",
       "  }\n",
       "});\n"
      ],
      "text/plain": [
       "<vega.vegalite.VegaLite at 0x7fc6783f7d60>"
      ]
     },
     "execution_count": 3,
     "metadata": {
      "jupyter-vega": "#75cd2035-e705-405a-a304-ef015980b6fa"
     },
     "output_type": "execute_result"
    },
    {
     "data": {
      "image/png": "[encoded data removed]"
     },
     "metadata": {
      "jupyter-vega": "#75cd2035-e705-405a-a304-ef015980b6fa"
     },
     "output_type": "display_data"
    }
   ],
   "source": [
    "nl4dv_instance.render_vis(\"fantasy movies\")"
   ]
  },
  {
   "cell_type": "code",
   "execution_count": 4,
   "metadata": {
    "collapsed": true
   },
   "outputs": [
    {
     "name": "stdout",
     "output_type": "stream",
     "text": [
      "a follow up query!\n",
      "-----Data Transform---------\n",
      "[{'filter': {'field': 'Creative Type', 'oneOf': ['Science Fiction']}}]\n"
     ]
    },
    {
     "data": {
      "application/javascript": [
       "const spec = {\"$schema\": \"https://vega.github.io/schema/vega-lite/v4.json\", \"mark\": {\"type\": \"bar\", \"tooltip\": true}, \"encoding\": {\"y\": {\"field\": \"Worldwide Gross\", \"type\": \"quantitative\", \"aggregate\": \"mean\", \"axis\": {\"format\": \"s\"}}, \"x\": {\"field\": \"Genre\", \"type\": \"nominal\"}}, \"transform\": [{\"filter\": {\"field\": \"Creative Type\", \"oneOf\": [\"Science Fiction\"]}}], \"data\": {\"url\": \"../../assets/data/movies-w-year.csv\", \"format\": {\"type\": \"csv\"}}};\n",
       "const opt = {};\n",
       "const type = \"vega-lite\";\n",
       "const id = \"d374496d-acd5-4ffb-8d74-b876a03419d5\";\n",
       "\n",
       "const output_area = this;\n",
       "\n",
       "require([\"nbextensions/jupyter-vega/index\"], function(vega) {\n",
       "  const target = document.createElement(\"div\");\n",
       "  target.id = id;\n",
       "  target.className = \"vega-embed\";\n",
       "\n",
       "  const style = document.createElement(\"style\");\n",
       "  style.textContent = [\n",
       "    \".vega-embed .error p {\",\n",
       "    \"  color: firebrick;\",\n",
       "    \"  font-size: 14px;\",\n",
       "    \"}\",\n",
       "  ].join(\"\\\\n\");\n",
       "\n",
       "  // element is a jQuery wrapped DOM element inside the output area\n",
       "  // see http://ipython.readthedocs.io/en/stable/api/generated/\\\n",
       "  // IPython.display.html#IPython.display.Javascript.__init__\n",
       "  element[0].appendChild(target);\n",
       "  element[0].appendChild(style);\n",
       "\n",
       "  vega.render(\"#\" + id, spec, type, opt, output_area);\n",
       "}, function (err) {\n",
       "  if (err.requireType !== \"scripterror\") {\n",
       "    throw(err);\n",
       "  }\n",
       "});\n"
      ],
      "text/plain": [
       "<vega.vegalite.VegaLite at 0x7f8b10068670>"
      ]
     },
     "execution_count": 4,
     "metadata": {
      "jupyter-vega": "#d374496d-acd5-4ffb-8d74-b876a03419d5"
     },
     "output_type": "execute_result"
    },
    {
     "data": {
      "image/png": "[encoded data removed]"
     },
     "metadata": {
      "jupyter-vega": "#d374496d-acd5-4ffb-8d74-b876a03419d5"
     },
     "output_type": "display_data"
    }
   ],
   "source": [
    "nl4dv_instance.render_vis(\"science fiction\")"
   ]
  },
  {
   "cell_type": "code",
   "execution_count": 4,
   "metadata": {
    "collapsed": true
   },
   "outputs": [
    {
     "name": "stdout",
     "output_type": "stream",
     "text": [
      "a follow up query!\n",
      "-----Data Transform---------\n",
      "[{'filter': {'field': 'Creative Type', 'oneOf': ['Science Fiction']}}, {'filter': {'field': 'Creative Type', 'oneOf': ['Fantasy']}}, {'filter': 'lower(datum[\"Worldwide Gross\"]) > 100000000.0'}]\n"
     ]
    },
    {
     "data": {
      "application/javascript": [
       "const spec = {\"$schema\": \"https://vega.github.io/schema/vega-lite/v4.json\", \"mark\": {\"type\": \"bar\", \"tooltip\": true}, \"encoding\": {\"y\": {\"field\": \"Worldwide Gross\", \"type\": \"quantitative\", \"aggregate\": \"mean\", \"axis\": {\"format\": \"s\"}}, \"x\": {\"field\": \"Genre\", \"type\": \"nominal\"}}, \"transform\": [{\"filter\": {\"field\": \"Creative Type\", \"oneOf\": [\"Science Fiction\"]}}, {\"filter\": {\"field\": \"Creative Type\", \"oneOf\": [\"Fantasy\"]}}, {\"filter\": \"lower(datum[\\\"Worldwide Gross\\\"]) > 100000000.0\"}], \"data\": {\"url\": \"../../assets/data/movies-w-year.csv\", \"format\": {\"type\": \"csv\"}}};\n",
       "const opt = {};\n",
       "const type = \"vega-lite\";\n",
       "const id = \"2fdef978-88fe-4b68-b5b8-3187fc78efcd\";\n",
       "\n",
       "const output_area = this;\n",
       "\n",
       "require([\"nbextensions/jupyter-vega/index\"], function(vega) {\n",
       "  const target = document.createElement(\"div\");\n",
       "  target.id = id;\n",
       "  target.className = \"vega-embed\";\n",
       "\n",
       "  const style = document.createElement(\"style\");\n",
       "  style.textContent = [\n",
       "    \".vega-embed .error p {\",\n",
       "    \"  color: firebrick;\",\n",
       "    \"  font-size: 14px;\",\n",
       "    \"}\",\n",
       "  ].join(\"\\\\n\");\n",
       "\n",
       "  // element is a jQuery wrapped DOM element inside the output area\n",
       "  // see http://ipython.readthedocs.io/en/stable/api/generated/\\\n",
       "  // IPython.display.html#IPython.display.Javascript.__init__\n",
       "  element[0].appendChild(target);\n",
       "  element[0].appendChild(style);\n",
       "\n",
       "  vega.render(\"#\" + id, spec, type, opt, output_area);\n",
       "}, function (err) {\n",
       "  if (err.requireType !== \"scripterror\") {\n",
       "    throw(err);\n",
       "  }\n",
       "});\n"
      ],
      "text/plain": [
       "<vega.vegalite.VegaLite at 0x7fc6783f7ee0>"
      ]
     },
     "execution_count": 4,
     "metadata": {
      "jupyter-vega": "#2fdef978-88fe-4b68-b5b8-3187fc78efcd"
     },
     "output_type": "execute_result"
    },
    {
     "data": {
      "image/png": "[encoded data removed]"
     },
     "metadata": {
      "jupyter-vega": "#2fdef978-88fe-4b68-b5b8-3187fc78efcd"
     },
     "output_type": "display_data"
    }
   ],
   "source": [
    "nl4dv_instance.render_vis(\"gross over 100M\")\n",
    "# nl4dv_instance.render_vis(\"glloss over 100M\")"
   ]
  },
  {
   "cell_type": "markdown",
   "metadata": {},
   "source": [
    "## Dialog test2 "
   ]
  },
  {
   "cell_type": "code",
   "execution_count": 1,
   "metadata": {},
   "outputs": [
    {
     "name": "stdout",
     "output_type": "stream",
     "text": [
      "normal query\n",
      "-----Data Transform---------\n",
      "[{'filter': {'field': 'Creative Type', 'oneOf': ['Science Fiction']}}]\n"
     ]
    },
    {
     "data": {
      "application/javascript": [
       "const spec = {\"$schema\": \"https://vega.github.io/schema/vega-lite/v4.json\", \"mark\": {\"type\": \"bar\", \"tooltip\": true}, \"encoding\": {\"y\": {\"field\": \"Worldwide Gross\", \"type\": \"quantitative\", \"aggregate\": \"mean\", \"axis\": {\"format\": \"s\"}}, \"x\": {\"field\": \"Genre\", \"type\": \"nominal\"}}, \"transform\": [{\"filter\": {\"field\": \"Creative Type\", \"oneOf\": [\"Science Fiction\"]}}], \"data\": {\"url\": \"../../assets/data/movies-w-year.csv\", \"format\": {\"type\": \"csv\"}}};\n",
       "const opt = {};\n",
       "const type = \"vega-lite\";\n",
       "const id = \"513cea4a-1de8-404f-b5f1-1ea8f7b56b86\";\n",
       "\n",
       "const output_area = this;\n",
       "\n",
       "require([\"nbextensions/jupyter-vega/index\"], function(vega) {\n",
       "  const target = document.createElement(\"div\");\n",
       "  target.id = id;\n",
       "  target.className = \"vega-embed\";\n",
       "\n",
       "  const style = document.createElement(\"style\");\n",
       "  style.textContent = [\n",
       "    \".vega-embed .error p {\",\n",
       "    \"  color: firebrick;\",\n",
       "    \"  font-size: 14px;\",\n",
       "    \"}\",\n",
       "  ].join(\"\\\\n\");\n",
       "\n",
       "  // element is a jQuery wrapped DOM element inside the output area\n",
       "  // see http://ipython.readthedocs.io/en/stable/api/generated/\\\n",
       "  // IPython.display.html#IPython.display.Javascript.__init__\n",
       "  element[0].appendChild(target);\n",
       "  element[0].appendChild(style);\n",
       "\n",
       "  vega.render(\"#\" + id, spec, type, opt, output_area);\n",
       "}, function (err) {\n",
       "  if (err.requireType !== \"scripterror\") {\n",
       "    throw(err);\n",
       "  }\n",
       "});\n"
      ],
      "text/plain": [
       "<vega.vegalite.VegaLite at 0x7f86f91a70d0>"
      ]
     },
     "execution_count": 1,
     "metadata": {
      "jupyter-vega": "#513cea4a-1de8-404f-b5f1-1ea8f7b56b86"
     },
     "output_type": "execute_result"
    },
    {
     "data": {
      "image/png": "[encoded data removed]"
     },
     "metadata": {
      "jupyter-vega": "#513cea4a-1de8-404f-b5f1-1ea8f7b56b86"
     },
     "output_type": "display_data"
    }
   ],
   "source": [
    "import os\n",
    "import pdb\n",
    "from nl4dv import NL4DV\n",
    "\n",
    "nl4dv_instance = NL4DV(debug=False,verbose=False,alias_url=os.path.join(\"..\",\"..\",\"assets\",\"aliases\",\"movies-w-year.json\"),data_url=os.path.join(\"..\",\"..\",\"assets\",\"data\",\"movies-w-year.csv\"))\n",
    "dependency_parser_config = {'name': 'corenlp','model': os.path.join(\"..\",\"..\",\"assets\",\"jars\",\"stanford-english-corenlp-2018-10-05-models.jar\"),'parser': os.path.join(\"..\",\"..\",\"assets\",\"jars\",\"stanford-parser.jar\")}\n",
    "nl4dv_instance.set_dependency_parser(config=dependency_parser_config)\n",
    "# nl4dv_instance.analyze_query(\"Show the relationship between budget and rating for Action and movies that grossed over 100M\")\n",
    "# nl4dv_instance.render_vis(\"Show average gross across genres for science fiction\")\n",
    "# nl4dv_instance.render_vis(\"fantasy movies\")\n",
    "# nl4dv_instance.render_vis(\"science fiction\")\n",
    "# nl4dv_instance.render_vis(\"create a barchart showing average gross across genres\")\n",
    "nl4dv_instance.render_vis(\"Show average gross across genres for science fiction\")\n",
    "# nl4dv_instance.render_vis(\"Show average gross across genres for science fiction\")\n"
   ]
  },
  {
   "cell_type": "code",
   "execution_count": 2,
   "metadata": {},
   "outputs": [
    {
     "name": "stdout",
     "output_type": "stream",
     "text": [
      "a follow up query!\n",
      "-----Data Transform---------\n",
      "[{'filter': {'field': 'Creative Type', 'oneOf': ['Science Fiction']}}, {'filter': 'lower(datum[\"Worldwide Gross\"]) > 100000000.0'}]\n"
     ]
    },
    {
     "data": {
      "application/javascript": [
       "const spec = {\"$schema\": \"https://vega.github.io/schema/vega-lite/v4.json\", \"mark\": {\"type\": \"bar\", \"tooltip\": true}, \"encoding\": {\"y\": {\"field\": \"Worldwide Gross\", \"type\": \"quantitative\", \"aggregate\": \"mean\", \"axis\": {\"format\": \"s\"}}, \"x\": {\"field\": \"Genre\", \"type\": \"nominal\"}}, \"transform\": [{\"filter\": {\"field\": \"Creative Type\", \"oneOf\": [\"Science Fiction\"]}}, {\"filter\": \"lower(datum[\\\"Worldwide Gross\\\"]) > 100000000.0\"}], \"data\": {\"url\": \"../../assets/data/movies-w-year.csv\", \"format\": {\"type\": \"csv\"}}};\n",
       "const opt = {};\n",
       "const type = \"vega-lite\";\n",
       "const id = \"45dae7b3-6722-4671-a5d6-0a98fa654595\";\n",
       "\n",
       "const output_area = this;\n",
       "\n",
       "require([\"nbextensions/jupyter-vega/index\"], function(vega) {\n",
       "  const target = document.createElement(\"div\");\n",
       "  target.id = id;\n",
       "  target.className = \"vega-embed\";\n",
       "\n",
       "  const style = document.createElement(\"style\");\n",
       "  style.textContent = [\n",
       "    \".vega-embed .error p {\",\n",
       "    \"  color: firebrick;\",\n",
       "    \"  font-size: 14px;\",\n",
       "    \"}\",\n",
       "  ].join(\"\\\\n\");\n",
       "\n",
       "  // element is a jQuery wrapped DOM element inside the output area\n",
       "  // see http://ipython.readthedocs.io/en/stable/api/generated/\\\n",
       "  // IPython.display.html#IPython.display.Javascript.__init__\n",
       "  element[0].appendChild(target);\n",
       "  element[0].appendChild(style);\n",
       "\n",
       "  vega.render(\"#\" + id, spec, type, opt, output_area);\n",
       "}, function (err) {\n",
       "  if (err.requireType !== \"scripterror\") {\n",
       "    throw(err);\n",
       "  }\n",
       "});\n"
      ],
      "text/plain": [
       "<vega.vegalite.VegaLite at 0x7f86e94ab970>"
      ]
     },
     "execution_count": 2,
     "metadata": {
      "jupyter-vega": "#45dae7b3-6722-4671-a5d6-0a98fa654595"
     },
     "output_type": "execute_result"
    },
    {
     "data": {
      "image/png": "[encoded data removed]"
     },
     "metadata": {
      "jupyter-vega": "#45dae7b3-6722-4671-a5d6-0a98fa654595"
     },
     "output_type": "display_data"
    }
   ],
   "source": [
    "# nl4dv_instance.render_vis(\"gross over 200M\")\n",
    "nl4dv_instance.render_vis(\"gross over 100M\")"
   ]
  },
  {
   "cell_type": "markdown",
   "metadata": {},
   "source": [
    "## Dialog test END"
   ]
  },
  {
   "cell_type": "markdown",
   "metadata": {},
   "source": [
    "### Render vis"
   ]
  },
  {
   "cell_type": "code",
   "execution_count": null,
   "metadata": {},
   "outputs": [],
   "source": [
    "nl4dv_instance.render_vis(\"Create a histogram showing distribution of IMDB ratings\")"
   ]
  },
  {
   "cell_type": "code",
   "execution_count": 5,
   "metadata": {},
   "outputs": [
    {
     "data": {
      "application/javascript": [
       "const spec = {\"$schema\": \"https://vega.github.io/schema/vega-lite/v4.json\", \"mark\": {\"type\": \"tick\", \"tooltip\": true}, \"encoding\": {\"x\": {\"field\": \"Worldwide Gross\", \"type\": \"quantitative\", \"aggregate\": null, \"axis\": {\"format\": \"s\"}}, \"tooltip\": {\"field\": \"Title\"}}, \"transform\": [], \"data\": {\"url\": \"../../assets/data/movies-w-year.csv\", \"format\": {\"type\": \"csv\"}}};\n",
       "const opt = {};\n",
       "const type = \"vega-lite\";\n",
       "const id = \"e53119d0-76c2-4026-b2d7-bdc661c2c023\";\n",
       "\n",
       "const output_area = this;\n",
       "\n",
       "require([\"nbextensions/jupyter-vega/index\"], function(vega) {\n",
       "  const target = document.createElement(\"div\");\n",
       "  target.id = id;\n",
       "  target.className = \"vega-embed\";\n",
       "\n",
       "  const style = document.createElement(\"style\");\n",
       "  style.textContent = [\n",
       "    \".vega-embed .error p {\",\n",
       "    \"  color: firebrick;\",\n",
       "    \"  font-size: 14px;\",\n",
       "    \"}\",\n",
       "  ].join(\"\\\\n\");\n",
       "\n",
       "  // element is a jQuery wrapped DOM element inside the output area\n",
       "  // see http://ipython.readthedocs.io/en/stable/api/generated/\\\n",
       "  // IPython.display.html#IPython.display.Javascript.__init__\n",
       "  element[0].appendChild(target);\n",
       "  element[0].appendChild(style);\n",
       "\n",
       "  vega.render(\"#\" + id, spec, type, opt, output_area);\n",
       "}, function (err) {\n",
       "  if (err.requireType !== \"scripterror\") {\n",
       "    throw(err);\n",
       "  }\n",
       "});\n"
      ],
      "text/plain": [
       "<vega.vegalite.VegaLite at 0x11fca1320>"
      ]
     },
     "execution_count": 5,
     "metadata": {
      "jupyter-vega": "#e53119d0-76c2-4026-b2d7-bdc661c2c023"
     },
     "output_type": "execute_result"
    },
    {
     "data": {
      "image/png": "[encoded data removed]"
     },
     "metadata": {
      "jupyter-vega": "#e53119d0-76c2-4026-b2d7-bdc661c2c023"
     },
     "output_type": "display_data"
    }
   ],
   "source": [
    "nl4dv_instance.render_vis(\"gross as a stripplot\")"
   ]
  },
  {
   "cell_type": "code",
   "execution_count": 6,
   "metadata": {
    "collapsed": true
   },
   "outputs": [
    {
     "data": {
      "application/javascript": [
       "const spec = {\"$schema\": \"https://vega.github.io/schema/vega-lite/v4.json\", \"mark\": {\"type\": \"boxplot\", \"tooltip\": true}, \"encoding\": {\"x\": {\"field\": \"Production Budget\", \"type\": \"quantitative\", \"aggregate\": null, \"axis\": {\"format\": \"s\"}}, \"tooltip\": {\"field\": \"Title\"}}, \"transform\": [], \"data\": {\"url\": \"../../assets/data/movies-w-year.csv\", \"format\": {\"type\": \"csv\"}}};\n",
       "const opt = {};\n",
       "const type = \"vega-lite\";\n",
       "const id = \"058a399d-8997-478e-b7a0-934481c7a0fa\";\n",
       "\n",
       "const output_area = this;\n",
       "\n",
       "require([\"nbextensions/jupyter-vega/index\"], function(vega) {\n",
       "  const target = document.createElement(\"div\");\n",
       "  target.id = id;\n",
       "  target.className = \"vega-embed\";\n",
       "\n",
       "  const style = document.createElement(\"style\");\n",
       "  style.textContent = [\n",
       "    \".vega-embed .error p {\",\n",
       "    \"  color: firebrick;\",\n",
       "    \"  font-size: 14px;\",\n",
       "    \"}\",\n",
       "  ].join(\"\\\\n\");\n",
       "\n",
       "  // element is a jQuery wrapped DOM element inside the output area\n",
       "  // see http://ipython.readthedocs.io/en/stable/api/generated/\\\n",
       "  // IPython.display.html#IPython.display.Javascript.__init__\n",
       "  element[0].appendChild(target);\n",
       "  element[0].appendChild(style);\n",
       "\n",
       "  vega.render(\"#\" + id, spec, type, opt, output_area);\n",
       "}, function (err) {\n",
       "  if (err.requireType !== \"scripterror\") {\n",
       "    throw(err);\n",
       "  }\n",
       "});\n"
      ],
      "text/plain": [
       "<vega.vegalite.VegaLite at 0x1211aa908>"
      ]
     },
     "execution_count": 6,
     "metadata": {
      "jupyter-vega": "#058a399d-8997-478e-b7a0-934481c7a0fa"
     },
     "output_type": "execute_result"
    },
    {
     "data": {
      "image/png": "[encoded data removed]"
     },
     "metadata": {
      "jupyter-vega": "#058a399d-8997-478e-b7a0-934481c7a0fa"
     },
     "output_type": "display_data"
    }
   ],
   "source": [
    "nl4dv_instance.render_vis(\"budget as a boxplot\")"
   ]
  },
  {
   "cell_type": "code",
   "execution_count": 11,
   "metadata": {},
   "outputs": [
    {
     "name": "stdout",
     "output_type": "stream",
     "text": [
      "[[(('movies', 'NNS'), 'case', ('for', 'IN')),\n",
      "  (('movies', 'NNS'), 'compound', ('sciencefiction', 'NN')),\n",
      "  (('sciencefiction', 'NN'), 'cc', ('and', 'CC')),\n",
      "  (('sciencefiction', 'NN'), 'conj', ('fantasy', 'NN'))]]\n"
     ]
    },
    {
     "data": {
      "text/plain": [
       "{'query_raw': 'for science fiction and fantasy movies',\n",
       " 'query': 'for science fiction and fantasy movies',\n",
       " 'dataset': '../../assets/data/movies-w-year.csv',\n",
       " 'alias': '../../assets/aliases/movies-w-year.json',\n",
       " 'visList': [{'attributes': ['Title'],\n",
       "   'queryPhrase': None,\n",
       "   'visType': None,\n",
       "   'tasks': ['filter'],\n",
       "   'inferenceType': 'implicit',\n",
       "   'vlSpec': {'$schema': 'https://vega.github.io/schema/vega-lite/v4.json',\n",
       "    'mark': {'type': 'bar', 'tooltip': True},\n",
       "    'encoding': {'x': {'field': 'Title', 'type': 'nominal'},\n",
       "     'y': {'field': 'Title', 'type': 'nominal', 'aggregate': 'count'}},\n",
       "    'transform': [{'filter': {'field': 'Creative Type',\n",
       "       'oneOf': ['Science Fiction', 'Fantasy']}}],\n",
       "    'data': {'url': '../../assets/data/movies-w-year.csv',\n",
       "     'format': {'type': 'csv'}}}}],\n",
       " 'attributeMap': {'Creative Type': {'name': 'Creative Type',\n",
       "   'queryPhrase': ['science fiction', 'fantasy'],\n",
       "   'inferenceType': 'implicit',\n",
       "   'isAmbiguous': False,\n",
       "   'ambiguity': []},\n",
       "  'Title': {'name': 'Title',\n",
       "   'queryPhrase': None,\n",
       "   'inferenceType': 'implicit',\n",
       "   'isAmbiguous': False,\n",
       "   'ambiguity': []}},\n",
       " 'taskMap': {'filter': [{'task': 'filter',\n",
       "    'queryPhrase': ['science fiction', 'fantasy'],\n",
       "    'operator': 'IN',\n",
       "    'values': ['Science Fiction', 'Fantasy'],\n",
       "    'attributes': ['Creative Type'],\n",
       "    'inferenceType': 'explicit'}]},\n",
       " 'followUpQuery': False,\n",
       " 'contextObj': None}"
      ]
     },
     "execution_count": 11,
     "metadata": {},
     "output_type": "execute_result"
    }
   ],
   "source": [
    "nl4dv_instance.analyze_query(\"for science fiction and fantasy movies\")"
   ]
  },
  {
   "cell_type": "code",
   "execution_count": 2,
   "metadata": {},
   "outputs": [
    {
     "data": {
      "application/javascript": [
       "const spec = {\"$schema\": \"https://vega.github.io/schema/vega-lite/v4.json\", \"mark\": {\"type\": \"point\", \"tooltip\": true}, \"encoding\": {\"x\": {\"field\": \"Production Budget\", \"type\": \"quantitative\", \"axis\": {\"format\": \"s\"}}, \"y\": {\"field\": \"IMDB Rating\", \"type\": \"quantitative\", \"axis\": {\"format\": \"s\"}}, \"tooltip\": {\"field\": \"Title\"}}, \"transform\": [], \"data\": {\"url\": \"../../assets/data/movies-w-year.csv\", \"format\": {\"type\": \"csv\"}}};\n",
       "const opt = {};\n",
       "const type = \"vega-lite\";\n",
       "const id = \"4b1a02db-9fd6-43e0-b0dd-864bee4b0be0\";\n",
       "\n",
       "const output_area = this;\n",
       "\n",
       "require([\"nbextensions/jupyter-vega/index\"], function(vega) {\n",
       "  const target = document.createElement(\"div\");\n",
       "  target.id = id;\n",
       "  target.className = \"vega-embed\";\n",
       "\n",
       "  const style = document.createElement(\"style\");\n",
       "  style.textContent = [\n",
       "    \".vega-embed .error p {\",\n",
       "    \"  color: firebrick;\",\n",
       "    \"  font-size: 14px;\",\n",
       "    \"}\",\n",
       "  ].join(\"\\\\n\");\n",
       "\n",
       "  // element is a jQuery wrapped DOM element inside the output area\n",
       "  // see http://ipython.readthedocs.io/en/stable/api/generated/\\\n",
       "  // IPython.display.html#IPython.display.Javascript.__init__\n",
       "  element[0].appendChild(target);\n",
       "  element[0].appendChild(style);\n",
       "\n",
       "  vega.render(\"#\" + id, spec, type, opt, output_area);\n",
       "}, function (err) {\n",
       "  if (err.requireType !== \"scripterror\") {\n",
       "    throw(err);\n",
       "  }\n",
       "});\n"
      ],
      "text/plain": [
       "<vega.vegalite.VegaLite at 0x7fba48d4db80>"
      ]
     },
     "execution_count": 2,
     "metadata": {
      "jupyter-vega": "#4b1a02db-9fd6-43e0-b0dd-864bee4b0be0"
     },
     "output_type": "execute_result"
    },
    {
     "data": {
      "image/png": "[encoded data removed]"
     },
     "metadata": {
      "jupyter-vega": "#4b1a02db-9fd6-43e0-b0dd-864bee4b0be0"
     },
     "output_type": "display_data"
    }
   ],
   "source": [
    "nl4dv_instance.render_vis(\"Visualize rating and budget\")"
   ]
  },
  {
   "cell_type": "code",
   "execution_count": 7,
   "metadata": {},
   "outputs": [
    {
     "name": "stdout",
     "output_type": "stream",
     "text": [
      "[[(('show', 'VB'), 'dobj', ('relationship', 'NN')),\n",
      "  (('relationship', 'NN'), 'det', ('the', 'DT')),\n",
      "  (('relationship', 'NN'), 'nmod', ('budget', 'NN')),\n",
      "  (('budget', 'NN'), 'case', ('between', 'IN')),\n",
      "  (('budget', 'NN'), 'cc', ('and', 'CC')),\n",
      "  (('budget', 'NN'), 'conj', ('rating', 'NN')),\n",
      "  (('budget', 'NN'), 'nmod', ('movies', 'NNS')),\n",
      "  (('movies', 'NNS'), 'case', ('for', 'IN')),\n",
      "  (('movies', 'NNS'), 'compound', ('action', 'NN')),\n",
      "  (('action', 'NN'), 'cc', ('and', 'CC')),\n",
      "  (('action', 'NN'), 'conj', ('adventure', 'NN')),\n",
      "  (('relationship', 'NN'), 'acl:relcl', ('grossed', 'VBN')),\n",
      "  (('grossed', 'VBN'), 'nsubj', ('that', 'WDT')),\n",
      "  (('grossed', 'VBN'), 'nmod', ('100000000', 'CD')),\n",
      "  (('100000000', 'CD'), 'case', ('over', 'IN'))]]\n"
     ]
    },
    {
     "data": {
      "application/javascript": [
       "const spec = {\"$schema\": \"https://vega.github.io/schema/vega-lite/v4.json\", \"mark\": {\"type\": \"point\", \"tooltip\": true}, \"encoding\": {\"x\": {\"field\": \"Production Budget\", \"type\": \"quantitative\", \"axis\": {\"format\": \"s\"}}, \"y\": {\"field\": \"IMDB Rating\", \"type\": \"quantitative\", \"axis\": {\"format\": \"s\"}}, \"tooltip\": {\"field\": \"Title\"}}, \"transform\": [{\"filter\": \"lower(datum[\\\"Worldwide Gross\\\"]) > 100000000.0\"}, {\"filter\": {\"field\": \"Genre\", \"oneOf\": [\"Action\", \"Adventure\"]}}], \"data\": {\"url\": \"../../assets/data/movies-w-year.csv\", \"format\": {\"type\": \"csv\"}}};\n",
       "const opt = {};\n",
       "const type = \"vega-lite\";\n",
       "const id = \"c3842a3d-7f0e-461f-a46b-92d626247878\";\n",
       "\n",
       "const output_area = this;\n",
       "\n",
       "require([\"nbextensions/jupyter-vega/index\"], function(vega) {\n",
       "  const target = document.createElement(\"div\");\n",
       "  target.id = id;\n",
       "  target.className = \"vega-embed\";\n",
       "\n",
       "  const style = document.createElement(\"style\");\n",
       "  style.textContent = [\n",
       "    \".vega-embed .error p {\",\n",
       "    \"  color: firebrick;\",\n",
       "    \"  font-size: 14px;\",\n",
       "    \"}\",\n",
       "  ].join(\"\\\\n\");\n",
       "\n",
       "  // element is a jQuery wrapped DOM element inside the output area\n",
       "  // see http://ipython.readthedocs.io/en/stable/api/generated/\\\n",
       "  // IPython.display.html#IPython.display.Javascript.__init__\n",
       "  element[0].appendChild(target);\n",
       "  element[0].appendChild(style);\n",
       "\n",
       "  vega.render(\"#\" + id, spec, type, opt, output_area);\n",
       "}, function (err) {\n",
       "  if (err.requireType !== \"scripterror\") {\n",
       "    throw(err);\n",
       "  }\n",
       "});\n"
      ],
      "text/plain": [
       "<vega.vegalite.VegaLite at 0x7fdce95eff40>"
      ]
     },
     "execution_count": 7,
     "metadata": {
      "jupyter-vega": "#c3842a3d-7f0e-461f-a46b-92d626247878"
     },
     "output_type": "execute_result"
    },
    {
     "data": {
      "image/png": "[encoded data removed]"
     },
     "metadata": {
      "jupyter-vega": "#c3842a3d-7f0e-461f-a46b-92d626247878"
     },
     "output_type": "display_data"
    }
   ],
   "source": [
    "nl4dv_instance.render_vis(\"show the relationship between budget and rating for action and adventure movies that grossed over 100M\")"
   ]
  },
  {
   "cell_type": "markdown",
   "metadata": {},
   "source": [
    "## Appendix experiements"
   ]
  },
  {
   "cell_type": "code",
   "execution_count": 5,
   "metadata": {},
   "outputs": [
    {
     "data": {
      "text/plain": [
       "[Match(a=0, b=0, size=11),\n",
       " Match(a=11, b=12, size=2),\n",
       " Match(a=13, b=14, size=0)]"
      ]
     },
     "execution_count": 5,
     "metadata": {},
     "output_type": "execute_result"
    }
   ],
   "source": [
    "from fuzzywuzzy import fuzz\n",
    "from difflib import SequenceMatcher\n",
    "s1=\"NEW YORK METS\"\n",
    "s2=\"NEW YORK MEATS\"\n",
    "# fuzz.ratio(\"NEW YORK METS\", \"NEW YORK MEATS\")\n",
    "m = SequenceMatcher(None, s1, s2)\n",
    "m.ratio()\n",
    "m.get_matching_blocks( )"
   ]
  },
  {
   "cell_type": "code",
   "execution_count": 6,
   "metadata": {},
   "outputs": [],
   "source": [
    "s1=\"mariners vs angels\"\n",
    "s2=\"los angeles angels of anaheim at seattle mariners\"\n",
    "tokens1=set(s1.split())\n",
    "tokens2=set(s2.split())\n",
    "\n",
    "intersection = tokens1.intersection(tokens2)\n",
    "diff1to2 = tokens1.difference(tokens2)\n",
    "diff2to1 = tokens2.difference(tokens1)\n",
    "sorted_sect = \" \".join(sorted(intersection))\n",
    "sorted_1to2 = \" \".join(sorted(diff1to2))\n",
    "sorted_2to1 = \" \".join(sorted(diff2to1))\n",
    "combined_1to2 = sorted_sect + \" \" + sorted_1to2\n",
    "combined_2to1 = sorted_sect + \" \" + sorted_2to1\n",
    "# strip\n",
    "sorted_sect = sorted_sect.strip()\n",
    "combined_1to2 = combined_1to2.strip()\n",
    "combined_2to1 = combined_2to1.strip()"
   ]
  },
  {
   "cell_type": "code",
   "execution_count": 7,
   "metadata": {},
   "outputs": [
    {
     "name": "stdout",
     "output_type": "stream",
     "text": [
      "angels mariners\n",
      "angels mariners vs\n",
      "angels mariners anaheim angeles at los of seattle\n"
     ]
    }
   ],
   "source": [
    "print(sorted_sect)\n",
    "print(combined_1to2)\n",
    "print(combined_2to1)"
   ]
  },
  {
   "cell_type": "code",
   "execution_count": 8,
   "metadata": {},
   "outputs": [
    {
     "name": "stdout",
     "output_type": "stream",
     "text": [
      "91\n",
      "47\n",
      "51\n"
     ]
    }
   ],
   "source": [
    "print(fuzz.ratio(sorted_sect,combined_1to2))\n",
    "print(fuzz.ratio(sorted_sect,combined_2to1))\n",
    "print(fuzz.ratio(combined_1to2,combined_2to1))"
   ]
  },
  {
   "cell_type": "code",
   "execution_count": 9,
   "metadata": {},
   "outputs": [
    {
     "data": {
      "text/plain": [
       "91"
      ]
     },
     "execution_count": 9,
     "metadata": {},
     "output_type": "execute_result"
    }
   ],
   "source": [
    "fuzz.token_set_ratio(\"mariners vs angels\", \"los angeles angels of anaheim at seattle mariners\")"
   ]
  },
  {
   "cell_type": "code",
   "execution_count": null,
   "metadata": {},
   "outputs": [],
   "source": []
  }
 ],
 "metadata": {
  "kernelspec": {
   "display_name": "Python 3",
   "language": "python",
   "name": "python3"
  },
  "language_info": {
   "codemirror_mode": {
    "name": "ipython",
    "version": 3
   },
   "file_extension": ".py",
   "mimetype": "text/x-python",
   "name": "python",
   "nbconvert_exporter": "python",
   "pygments_lexer": "ipython3",
   "version": "3.8.5"
  }
 },
 "nbformat": 4,
 "nbformat_minor": 4
}
