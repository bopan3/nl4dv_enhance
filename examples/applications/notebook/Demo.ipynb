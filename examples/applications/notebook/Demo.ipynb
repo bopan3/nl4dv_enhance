{
 "cells": [
  {
   "cell_type": "code",
   "execution_count": 6,
   "metadata": {},
   "outputs": [
    {
     "data": {
      "text/plain": [
       "['/Users/panbo/Desktop/nl4dv_modify/examples/applications/notebook',\n",
       " '/Users/panbo/opt/anaconda3/lib/python38.zip',\n",
       " '/Users/panbo/opt/anaconda3/lib/python3.8',\n",
       " '/Users/panbo/opt/anaconda3/lib/python3.8/lib-dynload',\n",
       " '',\n",
       " '/Users/panbo/opt/anaconda3/lib/python3.8/site-packages',\n",
       " '/Users/panbo/opt/anaconda3/lib/python3.8/site-packages/aeosa',\n",
       " '/Users/panbo/opt/anaconda3/lib/python3.8/site-packages/IPython/extensions',\n",
       " '/Users/panbo/.ipython',\n",
       " '/applications/notebook/nl4dv']"
      ]
     },
     "execution_count": 6,
     "metadata": {},
     "output_type": "execute_result"
    }
   ],
   "source": [
    "import sys  \n",
    "sys.path"
   ]
  },
  {
   "cell_type": "code",
   "execution_count": 12,
   "metadata": {},
   "outputs": [
    {
     "name": "stdout",
     "output_type": "stream",
     "text": [
      "/Users/panbo/Desktop/nl4dv_modify/examples/applications/notebook/nl4dv\n"
     ]
    }
   ],
   "source": [
    "%cd ./applications/notebook/nl4dv\n",
    "# %cd /Users/panbo/Desktop/nl4dv_modify/examples"
   ]
  },
  {
   "cell_type": "markdown",
   "metadata": {},
   "source": [
    "### Initialize NL4DV## Imports ### Set dependency parser"
   ]
  },
  {
   "cell_type": "code",
   "execution_count": 2,
   "metadata": {
    "collapsed": true
   },
   "outputs": [
    {
     "ename": "ModuleNotFoundError",
     "evalue": "No module named 'examples'",
     "output_type": "error",
     "traceback": [
      "\u001b[0;31m---------------------------------------------------------------------------\u001b[0m",
      "\u001b[0;31mModuleNotFoundError\u001b[0m                       Traceback (most recent call last)",
      "\u001b[0;32m<ipython-input-2-f07ec21c0586>\u001b[0m in \u001b[0;36m<module>\u001b[0;34m\u001b[0m\n\u001b[1;32m      1\u001b[0m \u001b[0;32mimport\u001b[0m \u001b[0mos\u001b[0m\u001b[0;34m\u001b[0m\u001b[0;34m\u001b[0m\u001b[0m\n\u001b[1;32m      2\u001b[0m \u001b[0;32mimport\u001b[0m \u001b[0mpdb\u001b[0m\u001b[0;34m\u001b[0m\u001b[0;34m\u001b[0m\u001b[0m\n\u001b[0;32m----> 3\u001b[0;31m \u001b[0;32mfrom\u001b[0m \u001b[0mnl4dv\u001b[0m \u001b[0;32mimport\u001b[0m \u001b[0mNL4DV\u001b[0m\u001b[0;34m\u001b[0m\u001b[0;34m\u001b[0m\u001b[0m\n\u001b[0m\u001b[1;32m      4\u001b[0m \u001b[0;34m\u001b[0m\u001b[0m\n\u001b[1;32m      5\u001b[0m \u001b[0mnl4dv_instance\u001b[0m \u001b[0;34m=\u001b[0m \u001b[0mNL4DV\u001b[0m\u001b[0;34m(\u001b[0m\u001b[0mdebug\u001b[0m\u001b[0;34m=\u001b[0m\u001b[0;32mFalse\u001b[0m\u001b[0;34m,\u001b[0m\u001b[0mverbose\u001b[0m\u001b[0;34m=\u001b[0m\u001b[0;32mFalse\u001b[0m\u001b[0;34m,\u001b[0m\u001b[0malias_url\u001b[0m\u001b[0;34m=\u001b[0m\u001b[0;34m\"/Users/panbo/Library/Mobile Documents/com~apple~CloudDocs/Documents/VIS/nl4dv_modify/examples/assets/aliases/movies-w-year.json\"\u001b[0m\u001b[0;34m,\u001b[0m\u001b[0mdata_url\u001b[0m\u001b[0;34m=\u001b[0m\u001b[0;34m\"/Users/panbo/Library/Mobile Documents/com~apple~CloudDocs/Documents/VIS/nl4dv_modify/examples/assets/data/movies-w-year.csv\"\u001b[0m\u001b[0;34m)\u001b[0m\u001b[0;34m\u001b[0m\u001b[0;34m\u001b[0m\u001b[0m\n",
      "\u001b[0;32m~/Desktop/nl4dv_modify/examples/applications/notebook/nl4dv/__init__.py\u001b[0m in \u001b[0;36m<module>\u001b[0;34m\u001b[0m\n\u001b[1;32m     13\u001b[0m \u001b[0;34m\u001b[0m\u001b[0m\n\u001b[1;32m     14\u001b[0m \u001b[0;32mfrom\u001b[0m \u001b[0mvega\u001b[0m \u001b[0;32mimport\u001b[0m \u001b[0mVegaLite\u001b[0m\u001b[0;34m\u001b[0m\u001b[0;34m\u001b[0m\u001b[0m\n\u001b[0;32m---> 15\u001b[0;31m \u001b[0;32mfrom\u001b[0m \u001b[0mexamples\u001b[0m\u001b[0;34m.\u001b[0m\u001b[0mapplications\u001b[0m\u001b[0;34m.\u001b[0m\u001b[0mnotebook\u001b[0m\u001b[0;34m.\u001b[0m\u001b[0mnl4dv\u001b[0m \u001b[0;32mimport\u001b[0m \u001b[0mdialoggenie\u001b[0m\u001b[0;34m\u001b[0m\u001b[0;34m\u001b[0m\u001b[0m\n\u001b[0m\u001b[1;32m     16\u001b[0m \u001b[0;34m\u001b[0m\u001b[0m\n\u001b[1;32m     17\u001b[0m \u001b[0;31m# NL4DV Imports\u001b[0m\u001b[0;34m\u001b[0m\u001b[0;34m\u001b[0m\u001b[0;34m\u001b[0m\u001b[0m\n",
      "\u001b[0;31mModuleNotFoundError\u001b[0m: No module named 'examples'"
     ]
    }
   ],
   "source": [
    "import os\n",
    "import pdb\n",
    "from nl4dv import NL4DV\n",
    "\n",
    "nl4dv_instance = NL4DV(debug=False,verbose=False,alias_url=\"/Users/panbo/Library/Mobile Documents/com~apple~CloudDocs/Documents/VIS/nl4dv_modify/examples/assets/aliases/movies-w-year.json\",data_url=\"/Users/panbo/Library/Mobile Documents/com~apple~CloudDocs/Documents/VIS/nl4dv_modify/examples/assets/data/movies-w-year.csv\")\n",
    "dependency_parser_config = {'name': 'corenlp','model': \"/Users/panbo/Library/Mobile Documents/com~apple~CloudDocs/Documents/VIS/nl4dv_modify/examples/assets/jars/stanford-english-corenlp-2018-10-05-models.jar\",'parser': \"/Users/panbo/Library/Mobile Documents/com~apple~CloudDocs/Documents/VIS/nl4dv_modify/examples/assets/jars/stanford-parser.jar\"}\n",
    "nl4dv_instance.set_dependency_parser(config=dependency_parser_config)\n",
    "# nl4dv_instance.analyze_query(\"Show the between budget and rating for Action and movies that grossed over 100M\")\n",
    "# nl4dv_instance.analyze_query(\"create a barchart showing average gross across genres\")\n",
    "nl4dv_instance.analyze_query(\"create a barchart showing average gross across genres\")\n",
    "\n",
    "\n",
    "\n"
   ]
  },
  {
   "cell_type": "code",
   "execution_count": null,
   "metadata": {},
   "outputs": [],
   "source": [
    "for Action and movies that grossed over 100M\n"
   ]
  },
  {
   "cell_type": "code",
   "execution_count": 1,
   "metadata": {
    "scrolled": false
   },
   "outputs": [
    {
     "data": {
      "text/plain": [
       "{'query_raw': 'Show the between budget and rating for Action and movies that grossed over 100M',\n",
       " 'query': 'show the between budget and rating for action and movies that grossed over 100000000',\n",
       " 'dataset': '../../assets/data/movies-w-year.csv',\n",
       " 'alias': '../../assets/aliases/movies-w-year.json',\n",
       " 'visList': [{'attributes': ['Production Budget', 'IMDB Rating'],\n",
       "   'queryPhrase': None,\n",
       "   'visType': None,\n",
       "   'tasks': ['filter', 'correlation'],\n",
       "   'inferenceType': 'implicit',\n",
       "   'vlSpec': {'$schema': 'https://vega.github.io/schema/vega-lite/v4.json',\n",
       "    'mark': {'type': 'point', 'tooltip': True},\n",
       "    'encoding': {'x': {'field': 'Production Budget',\n",
       "      'type': 'quantitative',\n",
       "      'axis': {'format': 's'}},\n",
       "     'y': {'field': 'IMDB Rating',\n",
       "      'type': 'quantitative',\n",
       "      'axis': {'format': 's'}},\n",
       "     'tooltip': {'field': 'Title'}},\n",
       "    'transform': [{'filter': 'lower(datum[\"Worldwide Gross\"]) > 100000000.0'},\n",
       "     {'filter': {'field': 'Genre', 'oneOf': ['Action']}}],\n",
       "    'data': {'url': '../../assets/data/movies-w-year.csv',\n",
       "     'format': {'type': 'csv'}}}},\n",
       "  {'attributes': ['Production Budget', 'Content Rating'],\n",
       "   'queryPhrase': None,\n",
       "   'visType': None,\n",
       "   'tasks': ['filter', 'correlation'],\n",
       "   'inferenceType': 'implicit',\n",
       "   'vlSpec': {'$schema': 'https://vega.github.io/schema/vega-lite/v4.json',\n",
       "    'mark': {'type': 'bar', 'tooltip': True},\n",
       "    'encoding': {'y': {'field': 'Production Budget',\n",
       "      'type': 'quantitative',\n",
       "      'aggregate': 'mean',\n",
       "      'axis': {'format': 's'}},\n",
       "     'x': {'field': 'Content Rating', 'type': 'nominal'}},\n",
       "    'transform': [{'filter': 'lower(datum[\"Worldwide Gross\"]) > 100000000.0'},\n",
       "     {'filter': {'field': 'Genre', 'oneOf': ['Action']}}],\n",
       "    'data': {'url': '../../assets/data/movies-w-year.csv',\n",
       "     'format': {'type': 'csv'}}}},\n",
       "  {'attributes': ['Production Budget', 'Content Rating'],\n",
       "   'queryPhrase': None,\n",
       "   'visType': None,\n",
       "   'tasks': ['filter', 'correlation'],\n",
       "   'inferenceType': 'implicit',\n",
       "   'vlSpec': {'$schema': 'https://vega.github.io/schema/vega-lite/v4.json',\n",
       "    'mark': {'type': 'tick', 'tooltip': True},\n",
       "    'encoding': {'y': {'field': 'Production Budget',\n",
       "      'type': 'quantitative',\n",
       "      'axis': {'format': 's'}},\n",
       "     'x': {'field': 'Content Rating', 'type': 'nominal'},\n",
       "     'tooltip': {'field': 'Title'}},\n",
       "    'transform': [{'filter': 'lower(datum[\"Worldwide Gross\"]) > 100000000.0'},\n",
       "     {'filter': {'field': 'Genre', 'oneOf': ['Action']}}],\n",
       "    'data': {'url': '../../assets/data/movies-w-year.csv',\n",
       "     'format': {'type': 'csv'}}}},\n",
       "  {'attributes': ['Production Budget', 'Rotten Tomatoes Rating'],\n",
       "   'queryPhrase': None,\n",
       "   'visType': None,\n",
       "   'tasks': ['filter', 'correlation'],\n",
       "   'inferenceType': 'implicit',\n",
       "   'vlSpec': {'$schema': 'https://vega.github.io/schema/vega-lite/v4.json',\n",
       "    'mark': {'type': 'point', 'tooltip': True},\n",
       "    'encoding': {'x': {'field': 'Production Budget',\n",
       "      'type': 'quantitative',\n",
       "      'axis': {'format': 's'}},\n",
       "     'y': {'field': 'Rotten Tomatoes Rating',\n",
       "      'type': 'quantitative',\n",
       "      'axis': {'format': 's'}},\n",
       "     'tooltip': {'field': 'Title'}},\n",
       "    'transform': [{'filter': 'lower(datum[\"Worldwide Gross\"]) > 100000000.0'},\n",
       "     {'filter': {'field': 'Genre', 'oneOf': ['Action']}}],\n",
       "    'data': {'url': '../../assets/data/movies-w-year.csv',\n",
       "     'format': {'type': 'csv'}}}}],\n",
       " 'attributeMap': {'Worldwide Gross': {'name': 'Worldwide Gross',\n",
       "   'queryPhrase': ['grossed'],\n",
       "   'inferenceType': 'explicit',\n",
       "   'isAmbiguous': False,\n",
       "   'ambiguity': []},\n",
       "  'Production Budget': {'name': 'Production Budget',\n",
       "   'queryPhrase': ['budget'],\n",
       "   'inferenceType': 'explicit',\n",
       "   'isAmbiguous': False,\n",
       "   'ambiguity': []},\n",
       "  'Content Rating': {'name': 'Content Rating',\n",
       "   'queryPhrase': ['rating'],\n",
       "   'inferenceType': 'explicit',\n",
       "   'isAmbiguous': True,\n",
       "   'ambiguity': ['Rotten Tomatoes Rating', 'IMDB Rating']},\n",
       "  'Rotten Tomatoes Rating': {'name': 'Rotten Tomatoes Rating',\n",
       "   'queryPhrase': ['rating'],\n",
       "   'inferenceType': 'explicit',\n",
       "   'isAmbiguous': True,\n",
       "   'ambiguity': ['Content Rating', 'IMDB Rating']},\n",
       "  'IMDB Rating': {'name': 'IMDB Rating',\n",
       "   'queryPhrase': ['rating'],\n",
       "   'inferenceType': 'explicit',\n",
       "   'isAmbiguous': True,\n",
       "   'ambiguity': ['Content Rating', 'Rotten Tomatoes Rating']},\n",
       "  'Genre': {'name': 'Genre',\n",
       "   'queryPhrase': ['action'],\n",
       "   'inferenceType': 'implicit',\n",
       "   'isAmbiguous': False,\n",
       "   'ambiguity': []}},\n",
       " 'taskMap': {'filter': [{'task': 'filter',\n",
       "    'queryPhrase': 'over',\n",
       "    'operator': 'GT',\n",
       "    'values': [100000000.0],\n",
       "    'attributes': ['Worldwide Gross'],\n",
       "    'inferenceType': 'explicit'},\n",
       "   {'task': 'filter',\n",
       "    'queryPhrase': ['action'],\n",
       "    'operator': 'IN',\n",
       "    'values': ['Action'],\n",
       "    'attributes': ['Genre'],\n",
       "    'inferenceType': 'explicit'}],\n",
       "  'correlation': [{'task': 'correlation',\n",
       "    'queryPhrase': [],\n",
       "    'operator': None,\n",
       "    'values': None,\n",
       "    'attributes': ['Worldwide Gross', 'Production Budget'],\n",
       "    'inferenceType': 'implicit'}]},\n",
       " 'followUpQuery': False,\n",
       " 'contextObj': None}"
      ]
     },
     "execution_count": 1,
     "metadata": {},
     "output_type": "execute_result"
    }
   ],
   "source": [
    "import os\n",
    "import pdb\n",
    "from nl4dv import NL4DV\n",
    "\n",
    "nl4dv_instance = NL4DV(debug=False,verbose=False,alias_url=os.path.join(\"..\",\"..\",\"assets\",\"aliases\",\"movies-w-year.json\"),data_url=os.path.join(\"..\",\"..\",\"assets\",\"data\",\"movies-w-year.csv\"))\n",
    "dependency_parser_config = {'name': 'corenlp','model': os.path.join(\"..\",\"..\",\"assets\",\"jars\",\"stanford-english-corenlp-2018-10-05-models.jar\"),'parser': os.path.join(\"..\",\"..\",\"assets\",\"jars\",\"stanford-parser.jar\")}\n",
    "nl4dv_instance.set_dependency_parser(config=dependency_parser_config)\n",
    "nl4dv_instance.analyze_query(\"Show the between budget and rating for Action and movies that grossed over 100M\")"
   ]
  },
  {
   "cell_type": "code",
   "execution_count": 3,
   "metadata": {},
   "outputs": [
    {
     "data": {
      "application/javascript": [
       "const spec = {\"$schema\": \"https://vega.github.io/schema/vega-lite/v4.json\", \"mark\": {\"type\": \"point\", \"tooltip\": true}, \"encoding\": {\"x\": {\"field\": \"Production Budget\", \"type\": \"quantitative\", \"axis\": {\"format\": \"s\"}}, \"y\": {\"field\": \"Rotten Tomatoes Rating\", \"type\": \"quantitative\", \"axis\": {\"format\": \"s\"}}, \"tooltip\": {\"field\": \"Title\"}}, \"transform\": [{\"filter\": \"lower(datum[\\\"Worldwide Gross\\\"]) > 100000000.0\"}, {\"filter\": {\"field\": \"Genre\", \"oneOf\": [\"Action\"]}}], \"data\": {\"url\": \"../../assets/data/movies-w-year.csv\", \"format\": {\"type\": \"csv\"}}};\n",
       "const opt = {};\n",
       "const type = \"vega-lite\";\n",
       "const id = \"4b41cb86-1f41-45cd-9cfc-750b02612402\";\n",
       "\n",
       "const output_area = this;\n",
       "\n",
       "require([\"nbextensions/jupyter-vega/index\"], function(vega) {\n",
       "  const target = document.createElement(\"div\");\n",
       "  target.id = id;\n",
       "  target.className = \"vega-embed\";\n",
       "\n",
       "  const style = document.createElement(\"style\");\n",
       "  style.textContent = [\n",
       "    \".vega-embed .error p {\",\n",
       "    \"  color: firebrick;\",\n",
       "    \"  font-size: 14px;\",\n",
       "    \"}\",\n",
       "  ].join(\"\\\\n\");\n",
       "\n",
       "  // element is a jQuery wrapped DOM element inside the output area\n",
       "  // see http://ipython.readthedocs.io/en/stable/api/generated/\\\n",
       "  // IPython.display.html#IPython.display.Javascript.__init__\n",
       "  element[0].appendChild(target);\n",
       "  element[0].appendChild(style);\n",
       "\n",
       "  vega.render(\"#\" + id, spec, type, opt, output_area);\n",
       "}, function (err) {\n",
       "  if (err.requireType !== \"scripterror\") {\n",
       "    throw(err);\n",
       "  }\n",
       "});\n"
      ],
      "text/plain": [
       "<vega.vegalite.VegaLite at 0x7ff53807bd90>"
      ]
     },
     "execution_count": 3,
     "metadata": {
      "jupyter-vega": "#4b41cb86-1f41-45cd-9cfc-750b02612402"
     },
     "output_type": "execute_result"
    },
    {
     "data": {
      "image/png": "[encoded data removed]"
     },
     "metadata": {
      "jupyter-vega": "#4b41cb86-1f41-45cd-9cfc-750b02612402"
     },
     "output_type": "display_data"
    }
   ],
   "source": [
    "from vega import VegaLite\n",
    "vsp={'$schema': 'https://vega.github.io/schema/vega-lite/v4.json',\n",
    "    'mark': {'type': 'point', 'tooltip': True},\n",
    "    'encoding': {'x': {'field': 'Production Budget',\n",
    "      'type': 'quantitative',\n",
    "      'axis': {'format': 's'}},\n",
    "     'y': {'field': 'Rotten Tomatoes Rating',\n",
    "      'type': 'quantitative',\n",
    "      'axis': {'format': 's'}},\n",
    "     'tooltip': {'field': 'Title'}},\n",
    "    'transform': [{'filter': 'lower(datum[\"Worldwide Gross\"]) > 100000000.0'},\n",
    "     {'filter': {'field': 'Genre', 'oneOf': ['Action']}}],\n",
    "    'data': {'url': '../../assets/data/movies-w-year.csv',\n",
    "     'format': {'type': 'csv'}}}\n",
    "VegaLite(vsp)"
   ]
  },
  {
   "cell_type": "code",
   "execution_count": 10,
   "metadata": {},
   "outputs": [
    {
     "data": {
      "text/plain": [
       "[Match(a=0, b=0, size=11),\n",
       " Match(a=11, b=12, size=2),\n",
       " Match(a=13, b=14, size=0)]"
      ]
     },
     "execution_count": 10,
     "metadata": {},
     "output_type": "execute_result"
    }
   ],
   "source": [
    "from fuzzywuzzy import fuzz\n",
    "from difflib import SequenceMatcher\n",
    "s1=\"NEW YORK METS\"\n",
    "s2=\"NEW YORK MEATS\"\n",
    "# fuzz.ratio(\"NEW YORK METS\", \"NEW YORK MEATS\")\n",
    "m = SequenceMatcher(None, s1, s2)\n",
    "m.ratio()\n",
    "m.get_matching_blocks( )"
   ]
  },
  {
   "cell_type": "code",
   "execution_count": 36,
   "metadata": {},
   "outputs": [],
   "source": [
    "s1=\"mariners vs angels\"\n",
    "s2=\"los angeles angels of anaheim at seattle mariners\"\n",
    "tokens1=set(s1.split())\n",
    "tokens2=set(s2.split())\n",
    "\n",
    "intersection = tokens1.intersection(tokens2)\n",
    "diff1to2 = tokens1.difference(tokens2)\n",
    "diff2to1 = tokens2.difference(tokens1)\n",
    "sorted_sect = \" \".join(sorted(intersection))\n",
    "sorted_1to2 = \" \".join(sorted(diff1to2))\n",
    "sorted_2to1 = \" \".join(sorted(diff2to1))\n",
    "combined_1to2 = sorted_sect + \" \" + sorted_1to2\n",
    "combined_2to1 = sorted_sect + \" \" + sorted_2to1\n",
    "# strip\n",
    "sorted_sect = sorted_sect.strip()\n",
    "combined_1to2 = combined_1to2.strip()\n",
    "combined_2to1 = combined_2to1.strip()"
   ]
  },
  {
   "cell_type": "code",
   "execution_count": 39,
   "metadata": {},
   "outputs": [
    {
     "name": "stdout",
     "output_type": "stream",
     "text": [
      "angels mariners\n",
      "angels mariners vs\n",
      "angels mariners anaheim angeles at los of seattle\n"
     ]
    }
   ],
   "source": [
    "print(sorted_sect)\n",
    "print(combined_1to2)\n",
    "print(combined_2to1)"
   ]
  },
  {
   "cell_type": "code",
   "execution_count": 46,
   "metadata": {},
   "outputs": [
    {
     "name": "stdout",
     "output_type": "stream",
     "text": [
      "91\n",
      "47\n",
      "51\n"
     ]
    }
   ],
   "source": [
    "print(fuzz.ratio(sorted_sect,combined_1to2))\n",
    "print(fuzz.ratio(sorted_sect,combined_2to1))\n",
    "print(fuzz.ratio(combined_1to2,combined_2to1))"
   ]
  },
  {
   "cell_type": "code",
   "execution_count": 30,
   "metadata": {},
   "outputs": [
    {
     "data": {
      "text/plain": [
       "91"
      ]
     },
     "execution_count": 30,
     "metadata": {},
     "output_type": "execute_result"
    }
   ],
   "source": [
    "fuzz.token_set_ratio(\"mariners vs angels\", \"los angeles angels of anaheim at seattle mariners\")"
   ]
  },
  {
   "cell_type": "code",
   "execution_count": 2,
   "metadata": {
    "collapsed": true,
    "scrolled": true
   },
   "outputs": [
    {
     "data": {
      "text/plain": [
       "{'query_raw': 'Show average gross across genres',\n",
       " 'query': 'show average gross across genres',\n",
       " 'dataset': '../../assets/data/movies-w-year.csv',\n",
       " 'alias': None,\n",
       " 'visList': [{'attributes': ['Worldwide Gross', 'Genre'],\n",
       "   'queryPhrase': None,\n",
       "   'visType': None,\n",
       "   'tasks': ['derived_value'],\n",
       "   'inferenceType': 'implicit',\n",
       "   'vlSpec': {'$schema': 'https://vega.github.io/schema/vega-lite/v4.json',\n",
       "    'mark': {'type': 'bar', 'tooltip': True},\n",
       "    'encoding': {'y': {'field': 'Worldwide Gross',\n",
       "      'type': 'quantitative',\n",
       "      'aggregate': 'mean',\n",
       "      'axis': {'format': 's'}},\n",
       "     'x': {'field': 'Genre', 'type': 'nominal'}},\n",
       "    'transform': [],\n",
       "    'data': {'url': '../../assets/data/movies-w-year.csv',\n",
       "     'format': {'type': 'csv'}}}}],\n",
       " 'attributeMap': {'Genre': {'name': 'Genre',\n",
       "   'queryPhrase': ['genres'],\n",
       "   'inferenceType': 'explicit',\n",
       "   'isAmbiguous': False,\n",
       "   'ambiguity': []},\n",
       "  'Worldwide Gross': {'name': 'Worldwide Gross',\n",
       "   'queryPhrase': ['gross'],\n",
       "   'inferenceType': 'explicit',\n",
       "   'isAmbiguous': False,\n",
       "   'ambiguity': []}},\n",
       " 'taskMap': {'derived_value': [{'task': 'derived_value',\n",
       "    'queryPhrase': 'average',\n",
       "    'operator': 'AVG',\n",
       "    'values': [],\n",
       "    'attributes': ['Worldwide Gross'],\n",
       "    'inferenceType': 'explicit'}]},\n",
       " 'followUpQuery': False,\n",
       " 'contextObj': None}"
      ]
     },
     "execution_count": 2,
     "metadata": {},
     "output_type": "execute_result"
    }
   ],
   "source": [
    "nl4dv_instance.analyze_query(\"Show average gross across genres\")"
   ]
  },
  {
   "cell_type": "code",
   "execution_count": 3,
   "metadata": {
    "collapsed": true
   },
   "outputs": [
    {
     "ename": "KeyError",
     "evalue": "'Genre'",
     "output_type": "error",
     "traceback": [
      "\u001b[0;31m---------------------------------------------------------------------------\u001b[0m",
      "\u001b[0;31mKeyError\u001b[0m                                  Traceback (most recent call last)",
      "\u001b[0;32m<ipython-input-3-a94e0d6ebf13>\u001b[0m in \u001b[0;36m<module>\u001b[0;34m\u001b[0m\n\u001b[0;32m----> 1\u001b[0;31m \u001b[0mnl4dv_instance\u001b[0m\u001b[0;34m.\u001b[0m\u001b[0manalyze_query\u001b[0m\u001b[0;34m(\u001b[0m\u001b[0;34m\"for science fiction and fantasy movies\"\u001b[0m\u001b[0;34m)\u001b[0m\u001b[0;34m\u001b[0m\u001b[0;34m\u001b[0m\u001b[0m\n\u001b[0m",
      "\u001b[0;32m~/Desktop/nl4dv_modify/examples/applications/notebook/nl4dv/__init__.py\u001b[0m in \u001b[0;36manalyze_query\u001b[0;34m(self, query, dialog, debug, verbose)\u001b[0m\n\u001b[1;32m    182\u001b[0m \u001b[0;34m\u001b[0m\u001b[0m\n\u001b[1;32m    183\u001b[0m         \u001b[0;31m# INFER tasks based on (encodeable) attribute Datatypes\u001b[0m\u001b[0;34m\u001b[0m\u001b[0;34m\u001b[0m\u001b[0;34m\u001b[0m\u001b[0m\n\u001b[0;32m--> 184\u001b[0;31m         \u001b[0mtask_map\u001b[0m \u001b[0;34m=\u001b[0m \u001b[0mself\u001b[0m\u001b[0;34m.\u001b[0m\u001b[0mtask_genie_instance\u001b[0m\u001b[0;34m.\u001b[0m\u001b[0mextract_implicit_tasks_from_attributes\u001b[0m\u001b[0;34m(\u001b[0m\u001b[0mtask_map\u001b[0m\u001b[0;34m,\u001b[0m \u001b[0mencodeable_attributes\u001b[0m\u001b[0;34m)\u001b[0m\u001b[0;34m\u001b[0m\u001b[0;34m\u001b[0m\u001b[0m\n\u001b[0m\u001b[1;32m    185\u001b[0m         \u001b[0;31m# print(task_map)\u001b[0m\u001b[0;34m\u001b[0m\u001b[0;34m\u001b[0m\u001b[0;34m\u001b[0m\u001b[0m\n\u001b[1;32m    186\u001b[0m \u001b[0;34m\u001b[0m\u001b[0m\n",
      "\u001b[0;32m~/Desktop/nl4dv_modify/examples/applications/notebook/nl4dv/taskgenie/taskgenie.py\u001b[0m in \u001b[0;36mextract_implicit_tasks_from_attributes\u001b[0;34m(self, task_map, attribute_list)\u001b[0m\n\u001b[1;32m    592\u001b[0m \u001b[0;34m\u001b[0m\u001b[0m\n\u001b[1;32m    593\u001b[0m                     \u001b[0;31m# Ensure each attribute comes from a different keyword for the visualization AND all such attributes detected form the visualization.\u001b[0m\u001b[0;34m\u001b[0m\u001b[0;34m\u001b[0m\u001b[0;34m\u001b[0m\u001b[0m\n\u001b[0;32m--> 594\u001b[0;31m                     \u001b[0;32mif\u001b[0m \u001b[0mself\u001b[0m\u001b[0;34m.\u001b[0m\u001b[0mnl4dv_instance\u001b[0m\u001b[0;34m.\u001b[0m\u001b[0mattribute_genie_instance\u001b[0m\u001b[0;34m.\u001b[0m\u001b[0mvalidate_attr_combo\u001b[0m\u001b[0;34m(\u001b[0m\u001b[0mattr_combo\u001b[0m\u001b[0;34m=\u001b[0m\u001b[0mcombo\u001b[0m\u001b[0;34m,\u001b[0m \u001b[0mquery_phrase\u001b[0m\u001b[0;34m=\u001b[0m\u001b[0;34m[\u001b[0m\u001b[0;34m]\u001b[0m\u001b[0;34m,\u001b[0m \u001b[0mallow_subset\u001b[0m\u001b[0;34m=\u001b[0m\u001b[0;32mFalse\u001b[0m\u001b[0;34m)\u001b[0m\u001b[0;34m:\u001b[0m\u001b[0;34m\u001b[0m\u001b[0;34m\u001b[0m\u001b[0m\n\u001b[0m\u001b[1;32m    595\u001b[0m                         \u001b[0;32mcontinue\u001b[0m\u001b[0;34m\u001b[0m\u001b[0;34m\u001b[0m\u001b[0m\n\u001b[1;32m    596\u001b[0m \u001b[0;34m\u001b[0m\u001b[0m\n",
      "\u001b[0;32m~/Desktop/nl4dv_modify/examples/applications/notebook/nl4dv/attributegenie/attributegenie.py\u001b[0m in \u001b[0;36mvalidate_attr_combo\u001b[0;34m(self, attr_combo, query_phrase, allow_subset)\u001b[0m\n\u001b[1;32m    657\u001b[0m         \u001b[0;31m# The combination has already incorporated the to be \"encode\"d attributes.\u001b[0m\u001b[0;34m\u001b[0m\u001b[0;34m\u001b[0m\u001b[0;34m\u001b[0m\u001b[0m\n\u001b[1;32m    658\u001b[0m         \u001b[0;32mfor\u001b[0m \u001b[0mc\u001b[0m \u001b[0;32min\u001b[0m \u001b[0mattr_combo\u001b[0m\u001b[0;34m:\u001b[0m\u001b[0;34m\u001b[0m\u001b[0;34m\u001b[0m\u001b[0m\n\u001b[0;32m--> 659\u001b[0;31m             \u001b[0munique_keywords\u001b[0m\u001b[0;34m.\u001b[0m\u001b[0madd\u001b[0m\u001b[0;34m(\u001b[0m\u001b[0;34m','\u001b[0m\u001b[0;34m.\u001b[0m\u001b[0mjoin\u001b[0m\u001b[0;34m(\u001b[0m\u001b[0mself\u001b[0m\u001b[0;34m.\u001b[0m\u001b[0mnl4dv_instance\u001b[0m\u001b[0;34m.\u001b[0m\u001b[0mattribute_keyword_mapping\u001b[0m\u001b[0;34m[\u001b[0m\u001b[0mc\u001b[0m\u001b[0;34m]\u001b[0m\u001b[0;34m.\u001b[0m\u001b[0mkeys\u001b[0m\u001b[0;34m(\u001b[0m\u001b[0;34m)\u001b[0m\u001b[0;34m)\u001b[0m\u001b[0;34m)\u001b[0m\u001b[0;34m\u001b[0m\u001b[0;34m\u001b[0m\u001b[0m\n\u001b[0m\u001b[1;32m    660\u001b[0m \u001b[0;34m\u001b[0m\u001b[0m\n\u001b[1;32m    661\u001b[0m         \u001b[0munique_attrs\u001b[0m \u001b[0;34m=\u001b[0m \u001b[0mset\u001b[0m\u001b[0;34m(\u001b[0m\u001b[0;34m)\u001b[0m\u001b[0;34m\u001b[0m\u001b[0;34m\u001b[0m\u001b[0m\n",
      "\u001b[0;31mKeyError\u001b[0m: 'Genre'"
     ]
    }
   ],
   "source": [
    "nl4dv_instance.analyze_query(\"for science fiction and fantasy movies\")"
   ]
  },
  {
   "cell_type": "code",
   "execution_count": 10,
   "metadata": {
    "collapsed": true
   },
   "outputs": [
    {
     "data": {
      "text/plain": [
       "(('show', 'VB'), 'dobj', ('average', 'NN'))"
      ]
     },
     "execution_count": 10,
     "metadata": {},
     "output_type": "execute_result"
    }
   ],
   "source": [
    "l=[[(('show', 'VB'), 'dobj', ('average', 'NN')), (('average', 'NN'), 'amod', ('gross', 'JJ')), (('show', 'VB'), 'nmod', ('genres', 'NNS')), (('genres', 'NNS'), 'case', ('across', 'IN')), (('genres', 'NNS'), 'nmod', ('movies', 'NNS')), (('movies', 'NNS'), 'case', ('for', 'IN')), (('movies', 'NNS'), 'compound', ('sciencefiction', 'NN')), (('sciencefiction', 'NN'), 'cc', ('and', 'CC')), (('sciencefiction', 'NN'), 'conj', ('fantasy', 'NN'))]]\n",
    "\n",
    "l[0][0]"
   ]
  },
  {
   "cell_type": "markdown",
   "metadata": {},
   "source": [
    "### Render vis"
   ]
  },
  {
   "cell_type": "code",
   "execution_count": 2,
   "metadata": {},
   "outputs": [
    {
     "name": "stdout",
     "output_type": "stream",
     "text": [
      "normal query\n",
      "[]\n"
     ]
    },
    {
     "data": {
      "application/javascript": [
       "const spec = {\"$schema\": \"https://vega.github.io/schema/vega-lite/v4.json\", \"mark\": {\"type\": \"bar\", \"tooltip\": true}, \"encoding\": {\"y\": {\"field\": \"Worldwide Gross\", \"type\": \"quantitative\", \"aggregate\": \"mean\", \"axis\": {\"format\": \"s\"}}, \"x\": {\"field\": \"Genre\", \"type\": \"nominal\", \"sort\": \"-y\"}}, \"transform\": [], \"data\": {\"url\": \"../../assets/data/movies-w-year.csv\", \"format\": {\"type\": \"csv\"}}};\n",
       "const opt = {};\n",
       "const type = \"vega-lite\";\n",
       "const id = \"f984033e-b511-4f69-921e-295d058415db\";\n",
       "\n",
       "const output_area = this;\n",
       "\n",
       "require([\"nbextensions/jupyter-vega/index\"], function(vega) {\n",
       "  const target = document.createElement(\"div\");\n",
       "  target.id = id;\n",
       "  target.className = \"vega-embed\";\n",
       "\n",
       "  const style = document.createElement(\"style\");\n",
       "  style.textContent = [\n",
       "    \".vega-embed .error p {\",\n",
       "    \"  color: firebrick;\",\n",
       "    \"  font-size: 14px;\",\n",
       "    \"}\",\n",
       "  ].join(\"\\\\n\");\n",
       "\n",
       "  // element is a jQuery wrapped DOM element inside the output area\n",
       "  // see http://ipython.readthedocs.io/en/stable/api/generated/\\\n",
       "  // IPython.display.html#IPython.display.Javascript.__init__\n",
       "  element[0].appendChild(target);\n",
       "  element[0].appendChild(style);\n",
       "\n",
       "  vega.render(\"#\" + id, spec, type, opt, output_area);\n",
       "}, function (err) {\n",
       "  if (err.requireType !== \"scripterror\") {\n",
       "    throw(err);\n",
       "  }\n",
       "});\n"
      ],
      "text/plain": [
       "<vega.vegalite.VegaLite at 0x7fc2292c1d60>"
      ]
     },
     "execution_count": 2,
     "metadata": {
      "jupyter-vega": "#f984033e-b511-4f69-921e-295d058415db"
     },
     "output_type": "execute_result"
    },
    {
     "data": {
      "image/png": "[encoded data removed]"
     },
     "metadata": {
      "jupyter-vega": "#f984033e-b511-4f69-921e-295d058415db"
     },
     "output_type": "display_data"
    }
   ],
   "source": [
    "import os\n",
    "import pdb\n",
    "from nl4dv import NL4DV\n",
    "\n",
    "nl4dv_instance = NL4DV(debug=False,verbose=False,data_url=os.path.join(\"..\",\"..\",\"assets\",\"data\",\"movies-w-year.csv\"))\n",
    "dependency_parser_config = {'name': 'corenlp','model': os.path.join(\"..\",\"..\",\"assets\",\"jars\",\"stanford-english-corenlp-2018-10-05-models.jar\"),'parser': os.path.join(\"..\",\"..\",\"assets\",\"jars\",\"stanford-parser.jar\")}\n",
    "nl4dv_instance.set_dependency_parser(config=dependency_parser_config)\n",
    "# nl4dv_instance.analyze_query(\"Create a histogram showing distribution of IMDB ratings\")\n",
    "nl4dv_instance.render_vis(\"create a barchart showing max gross across genres\")\n",
    "\n",
    "\n",
    " "
   ]
  },
  {
   "cell_type": "code",
   "execution_count": 4,
   "metadata": {},
   "outputs": [
    {
     "data": {
      "text/plain": [
       "{'query_raw': 'create a barchart showing max gross across genres',\n",
       " 'query': 'create a barchart showing max gross across genres',\n",
       " 'dataset': '../../assets/data/movies-w-year.csv',\n",
       " 'alias': None,\n",
       " 'visList': [{'attributes': ['Worldwide Gross', 'Genre'],\n",
       "   'queryPhrase': 'barchart',\n",
       "   'visType': 'barchart',\n",
       "   'tasks': ['find_extremum'],\n",
       "   'inferenceType': 'explicit',\n",
       "   'vlSpec': {'$schema': 'https://vega.github.io/schema/vega-lite/v4.json',\n",
       "    'mark': {'type': 'bar', 'tooltip': True},\n",
       "    'encoding': {'y': {'field': 'Worldwide Gross',\n",
       "      'type': 'quantitative',\n",
       "      'aggregate': 'mean',\n",
       "      'axis': {'format': 's'}},\n",
       "     'x': {'field': 'Genre', 'type': 'nominal', 'sort': '-y'}},\n",
       "    'transform': [],\n",
       "    'data': {'url': '../../assets/data/movies-w-year.csv',\n",
       "     'format': {'type': 'csv'}}}}],\n",
       " 'attributeMap': {'Genre': {'name': 'Genre',\n",
       "   'queryPhrase': ['genres'],\n",
       "   'inferenceType': 'explicit',\n",
       "   'isAmbiguous': False,\n",
       "   'ambiguity': []},\n",
       "  'Worldwide Gross': {'name': 'Worldwide Gross',\n",
       "   'queryPhrase': ['gross'],\n",
       "   'inferenceType': 'explicit',\n",
       "   'isAmbiguous': False,\n",
       "   'ambiguity': []}},\n",
       " 'taskMap': {'find_extremum': [{'task': 'find_extremum',\n",
       "    'queryPhrase': 'max',\n",
       "    'operator': 'MAX',\n",
       "    'values': [],\n",
       "    'attributes': ['Worldwide Gross'],\n",
       "    'inferenceType': 'explicit'}]},\n",
       " 'followUpQuery': False,\n",
       " 'contextObj': None}"
      ]
     },
     "execution_count": 4,
     "metadata": {},
     "output_type": "execute_result"
    }
   ],
   "source": [
    "nl4dv_instance.analyze_query(\"create a barchart showing max gross across genres\")\n"
   ]
  },
  {
   "cell_type": "code",
   "execution_count": 3,
   "metadata": {
    "collapsed": true
   },
   "outputs": [
    {
     "ename": "KeyError",
     "evalue": "'Genre'",
     "output_type": "error",
     "traceback": [
      "\u001b[0;31m---------------------------------------------------------------------------\u001b[0m",
      "\u001b[0;31mKeyError\u001b[0m                                  Traceback (most recent call last)",
      "\u001b[0;32m<ipython-input-3-008d7f3f2eb0>\u001b[0m in \u001b[0;36m<module>\u001b[0;34m\u001b[0m\n\u001b[0;32m----> 1\u001b[0;31m \u001b[0mprint\u001b[0m\u001b[0;34m(\u001b[0m\u001b[0mnl4dv_instance\u001b[0m\u001b[0;34m.\u001b[0m\u001b[0manalyze_query\u001b[0m\u001b[0;34m(\u001b[0m\u001b[0;34m\"for science fiction and fantasy movies\"\u001b[0m\u001b[0;34m)\u001b[0m\u001b[0;34m)\u001b[0m\u001b[0;34m\u001b[0m\u001b[0;34m\u001b[0m\u001b[0m\n\u001b[0m",
      "\u001b[0;32m~/Desktop/nl4dv_modify/examples/applications/notebook/nl4dv/__init__.py\u001b[0m in \u001b[0;36manalyze_query\u001b[0;34m(self, query, dialog, debug, verbose)\u001b[0m\n\u001b[1;32m    179\u001b[0m \u001b[0;34m\u001b[0m\u001b[0m\n\u001b[1;32m    180\u001b[0m         \u001b[0;31m# INFER tasks based on (encodeable) attribute Datatypes\u001b[0m\u001b[0;34m\u001b[0m\u001b[0;34m\u001b[0m\u001b[0;34m\u001b[0m\u001b[0m\n\u001b[0;32m--> 181\u001b[0;31m         \u001b[0mtask_map\u001b[0m \u001b[0;34m=\u001b[0m \u001b[0mself\u001b[0m\u001b[0;34m.\u001b[0m\u001b[0mtask_genie_instance\u001b[0m\u001b[0;34m.\u001b[0m\u001b[0mextract_implicit_tasks_from_attributes\u001b[0m\u001b[0;34m(\u001b[0m\u001b[0mtask_map\u001b[0m\u001b[0;34m,\u001b[0m \u001b[0mencodeable_attributes\u001b[0m\u001b[0;34m)\u001b[0m\u001b[0;34m\u001b[0m\u001b[0;34m\u001b[0m\u001b[0m\n\u001b[0m\u001b[1;32m    182\u001b[0m         \u001b[0;31m# print(task_map)\u001b[0m\u001b[0;34m\u001b[0m\u001b[0;34m\u001b[0m\u001b[0;34m\u001b[0m\u001b[0m\n\u001b[1;32m    183\u001b[0m \u001b[0;34m\u001b[0m\u001b[0m\n",
      "\u001b[0;32m~/Desktop/nl4dv_modify/examples/applications/notebook/nl4dv/taskgenie/taskgenie.py\u001b[0m in \u001b[0;36mextract_implicit_tasks_from_attributes\u001b[0;34m(self, task_map, attribute_list)\u001b[0m\n\u001b[1;32m    592\u001b[0m \u001b[0;34m\u001b[0m\u001b[0m\n\u001b[1;32m    593\u001b[0m                     \u001b[0;31m# Ensure each attribute comes from a different keyword for the visualization AND all such attributes detected form the visualization.\u001b[0m\u001b[0;34m\u001b[0m\u001b[0;34m\u001b[0m\u001b[0;34m\u001b[0m\u001b[0m\n\u001b[0;32m--> 594\u001b[0;31m                     \u001b[0;32mif\u001b[0m \u001b[0mself\u001b[0m\u001b[0;34m.\u001b[0m\u001b[0mnl4dv_instance\u001b[0m\u001b[0;34m.\u001b[0m\u001b[0mattribute_genie_instance\u001b[0m\u001b[0;34m.\u001b[0m\u001b[0mvalidate_attr_combo\u001b[0m\u001b[0;34m(\u001b[0m\u001b[0mattr_combo\u001b[0m\u001b[0;34m=\u001b[0m\u001b[0mcombo\u001b[0m\u001b[0;34m,\u001b[0m \u001b[0mquery_phrase\u001b[0m\u001b[0;34m=\u001b[0m\u001b[0;34m[\u001b[0m\u001b[0;34m]\u001b[0m\u001b[0;34m,\u001b[0m \u001b[0mallow_subset\u001b[0m\u001b[0;34m=\u001b[0m\u001b[0;32mFalse\u001b[0m\u001b[0;34m)\u001b[0m\u001b[0;34m:\u001b[0m\u001b[0;34m\u001b[0m\u001b[0;34m\u001b[0m\u001b[0m\n\u001b[0m\u001b[1;32m    595\u001b[0m                         \u001b[0;32mcontinue\u001b[0m\u001b[0;34m\u001b[0m\u001b[0;34m\u001b[0m\u001b[0m\n\u001b[1;32m    596\u001b[0m \u001b[0;34m\u001b[0m\u001b[0m\n",
      "\u001b[0;32m~/Desktop/nl4dv_modify/examples/applications/notebook/nl4dv/attributegenie/attributegenie.py\u001b[0m in \u001b[0;36mvalidate_attr_combo\u001b[0;34m(self, attr_combo, query_phrase, allow_subset)\u001b[0m\n\u001b[1;32m    642\u001b[0m         \u001b[0;31m# The combination has already incorporated the to be \"encode\"d attributes.\u001b[0m\u001b[0;34m\u001b[0m\u001b[0;34m\u001b[0m\u001b[0;34m\u001b[0m\u001b[0m\n\u001b[1;32m    643\u001b[0m         \u001b[0;32mfor\u001b[0m \u001b[0mc\u001b[0m \u001b[0;32min\u001b[0m \u001b[0mattr_combo\u001b[0m\u001b[0;34m:\u001b[0m\u001b[0;34m\u001b[0m\u001b[0;34m\u001b[0m\u001b[0m\n\u001b[0;32m--> 644\u001b[0;31m             \u001b[0munique_keywords\u001b[0m\u001b[0;34m.\u001b[0m\u001b[0madd\u001b[0m\u001b[0;34m(\u001b[0m\u001b[0;34m','\u001b[0m\u001b[0;34m.\u001b[0m\u001b[0mjoin\u001b[0m\u001b[0;34m(\u001b[0m\u001b[0mself\u001b[0m\u001b[0;34m.\u001b[0m\u001b[0mnl4dv_instance\u001b[0m\u001b[0;34m.\u001b[0m\u001b[0mattribute_keyword_mapping\u001b[0m\u001b[0;34m[\u001b[0m\u001b[0mc\u001b[0m\u001b[0;34m]\u001b[0m\u001b[0;34m.\u001b[0m\u001b[0mkeys\u001b[0m\u001b[0;34m(\u001b[0m\u001b[0;34m)\u001b[0m\u001b[0;34m)\u001b[0m\u001b[0;34m)\u001b[0m\u001b[0;34m\u001b[0m\u001b[0;34m\u001b[0m\u001b[0m\n\u001b[0m\u001b[1;32m    645\u001b[0m \u001b[0;34m\u001b[0m\u001b[0m\n\u001b[1;32m    646\u001b[0m         \u001b[0munique_attrs\u001b[0m \u001b[0;34m=\u001b[0m \u001b[0mset\u001b[0m\u001b[0;34m(\u001b[0m\u001b[0;34m)\u001b[0m\u001b[0;34m\u001b[0m\u001b[0;34m\u001b[0m\u001b[0m\n",
      "\u001b[0;31mKeyError\u001b[0m: 'Genre'"
     ]
    }
   ],
   "source": [
    "print(nl4dv_instance.analyze_query(\"for science fiction and fantasy movies\"))\n"
   ]
  },
  {
   "cell_type": "markdown",
   "metadata": {},
   "source": [
    "### Execute Query"
   ]
  },
  {
   "cell_type": "code",
   "execution_count": 8,
   "metadata": {},
   "outputs": [
    {
     "data": {
      "text/plain": [
       "{'query_raw': '@',\n",
       " 'query': '@',\n",
       " 'dataset': '../../assets/data/movies-w-year.csv',\n",
       " 'alias': '../../assets/aliases/movies-w-year.json',\n",
       " 'visList': [],\n",
       " 'attributeMap': {},\n",
       " 'taskMap': {},\n",
       " 'followUpQuery': False,\n",
       " 'contextObj': None}"
      ]
     },
     "execution_count": 8,
     "metadata": {},
     "output_type": "execute_result"
    }
   ],
   "source": [
    "nl4dv_instance.analyze_query(\"@\")"
   ]
  },
  {
   "cell_type": "code",
   "execution_count": null,
   "metadata": {},
   "outputs": [],
   "source": [
    "MAGIC CMD: CLEAR\n",
    "{'query_raw': 'MAGIC CMD: CLEAR',\n",
    " 'query': 'MAGIC CMD: CLEAR',\n",
    " 'dataset': '../../assets/data/movies-w-year.csv',\n",
    " 'alias': '../../assets/aliases/movies-w-year.json',\n",
    " 'visList': [],\n",
    " 'attributeMap': {},\n",
    " 'taskMap': {},\n",
    " 'followUpQuery': False,\n",
    " 'contextObj': None}"
   ]
  },
  {
   "cell_type": "markdown",
   "metadata": {},
   "source": [
    "## Dialog test1"
   ]
  },
  {
   "cell_type": "code",
   "execution_count": 1,
   "metadata": {},
   "outputs": [],
   "source": [
    "import os\n",
    "import pdb\n",
    "from nl4dv import NL4DV\n",
    "\n",
    "nl4dv_instance = NL4DV(debug=False,verbose=False,alias_url=os.path.join(\"..\",\"..\",\"assets\",\"aliases\",\"movies-w-year.json\"),data_url=os.path.join(\"..\",\"..\",\"assets\",\"data\",\"movies-w-year.csv\"))\n",
    "dependency_parser_config = {'name': 'corenlp','model': os.path.join(\"..\",\"..\",\"assets\",\"jars\",\"stanford-english-corenlp-2018-10-05-models.jar\"),'parser': os.path.join(\"..\",\"..\",\"assets\",\"jars\",\"stanford-parser.jar\")}\n",
    "nl4dv_instance.set_dependency_parser(config=dependency_parser_config)"
   ]
  },
  {
   "cell_type": "code",
   "execution_count": 2,
   "metadata": {
    "collapsed": true
   },
   "outputs": [
    {
     "name": "stdout",
     "output_type": "stream",
     "text": [
      "normal query\n",
      "-----Data Transform---------\n",
      "[{'filter': {'field': 'Creative Type', 'oneOf': ['Science Fiction']}}]\n"
     ]
    },
    {
     "data": {
      "application/javascript": [
       "const spec = {\"$schema\": \"https://vega.github.io/schema/vega-lite/v4.json\", \"mark\": {\"type\": \"bar\", \"tooltip\": true}, \"encoding\": {\"y\": {\"field\": \"Worldwide Gross\", \"type\": \"quantitative\", \"aggregate\": \"mean\", \"axis\": {\"format\": \"s\"}}, \"x\": {\"field\": \"Genre\", \"type\": \"nominal\"}}, \"transform\": [{\"filter\": {\"field\": \"Creative Type\", \"oneOf\": [\"Science Fiction\"]}}], \"data\": {\"url\": \"../../assets/data/movies-w-year.csv\", \"format\": {\"type\": \"csv\"}}};\n",
       "const opt = {};\n",
       "const type = \"vega-lite\";\n",
       "const id = \"78bcb813-1396-40ff-92d7-ec983e2f6274\";\n",
       "\n",
       "const output_area = this;\n",
       "\n",
       "require([\"nbextensions/jupyter-vega/index\"], function(vega) {\n",
       "  const target = document.createElement(\"div\");\n",
       "  target.id = id;\n",
       "  target.className = \"vega-embed\";\n",
       "\n",
       "  const style = document.createElement(\"style\");\n",
       "  style.textContent = [\n",
       "    \".vega-embed .error p {\",\n",
       "    \"  color: firebrick;\",\n",
       "    \"  font-size: 14px;\",\n",
       "    \"}\",\n",
       "  ].join(\"\\\\n\");\n",
       "\n",
       "  // element is a jQuery wrapped DOM element inside the output area\n",
       "  // see http://ipython.readthedocs.io/en/stable/api/generated/\\\n",
       "  // IPython.display.html#IPython.display.Javascript.__init__\n",
       "  element[0].appendChild(target);\n",
       "  element[0].appendChild(style);\n",
       "\n",
       "  vega.render(\"#\" + id, spec, type, opt, output_area);\n",
       "}, function (err) {\n",
       "  if (err.requireType !== \"scripterror\") {\n",
       "    throw(err);\n",
       "  }\n",
       "});\n"
      ],
      "text/plain": [
       "<vega.vegalite.VegaLite at 0x7fc6783f7490>"
      ]
     },
     "execution_count": 2,
     "metadata": {
      "jupyter-vega": "#78bcb813-1396-40ff-92d7-ec983e2f6274"
     },
     "output_type": "execute_result"
    },
    {
     "data": {
      "image/png": "[encoded data removed]"
     },
     "metadata": {
      "jupyter-vega": "#78bcb813-1396-40ff-92d7-ec983e2f6274"
     },
     "output_type": "display_data"
    }
   ],
   "source": [
    "nl4dv_instance.render_vis(\"Show average gross across genres for science fiction\")"
   ]
  },
  {
   "cell_type": "code",
   "execution_count": 3,
   "metadata": {
    "collapsed": true
   },
   "outputs": [
    {
     "name": "stdout",
     "output_type": "stream",
     "text": [
      "a follow up query!\n",
      "-----Data Transform---------\n",
      "[{'filter': {'field': 'Creative Type', 'oneOf': ['Science Fiction']}}, {'filter': {'field': 'Creative Type', 'oneOf': ['Fantasy']}}]\n"
     ]
    },
    {
     "data": {
      "application/javascript": [
       "const spec = {\"$schema\": \"https://vega.github.io/schema/vega-lite/v4.json\", \"mark\": {\"type\": \"bar\", \"tooltip\": true}, \"encoding\": {\"y\": {\"field\": \"Worldwide Gross\", \"type\": \"quantitative\", \"aggregate\": \"mean\", \"axis\": {\"format\": \"s\"}}, \"x\": {\"field\": \"Genre\", \"type\": \"nominal\"}}, \"transform\": [{\"filter\": {\"field\": \"Creative Type\", \"oneOf\": [\"Science Fiction\"]}}, {\"filter\": {\"field\": \"Creative Type\", \"oneOf\": [\"Fantasy\"]}}], \"data\": {\"url\": \"../../assets/data/movies-w-year.csv\", \"format\": {\"type\": \"csv\"}}};\n",
       "const opt = {};\n",
       "const type = \"vega-lite\";\n",
       "const id = \"75cd2035-e705-405a-a304-ef015980b6fa\";\n",
       "\n",
       "const output_area = this;\n",
       "\n",
       "require([\"nbextensions/jupyter-vega/index\"], function(vega) {\n",
       "  const target = document.createElement(\"div\");\n",
       "  target.id = id;\n",
       "  target.className = \"vega-embed\";\n",
       "\n",
       "  const style = document.createElement(\"style\");\n",
       "  style.textContent = [\n",
       "    \".vega-embed .error p {\",\n",
       "    \"  color: firebrick;\",\n",
       "    \"  font-size: 14px;\",\n",
       "    \"}\",\n",
       "  ].join(\"\\\\n\");\n",
       "\n",
       "  // element is a jQuery wrapped DOM element inside the output area\n",
       "  // see http://ipython.readthedocs.io/en/stable/api/generated/\\\n",
       "  // IPython.display.html#IPython.display.Javascript.__init__\n",
       "  element[0].appendChild(target);\n",
       "  element[0].appendChild(style);\n",
       "\n",
       "  vega.render(\"#\" + id, spec, type, opt, output_area);\n",
       "}, function (err) {\n",
       "  if (err.requireType !== \"scripterror\") {\n",
       "    throw(err);\n",
       "  }\n",
       "});\n"
      ],
      "text/plain": [
       "<vega.vegalite.VegaLite at 0x7fc6783f7d60>"
      ]
     },
     "execution_count": 3,
     "metadata": {
      "jupyter-vega": "#75cd2035-e705-405a-a304-ef015980b6fa"
     },
     "output_type": "execute_result"
    },
    {
     "data": {
      "image/png": "[encoded data removed]"
     },
     "metadata": {
      "jupyter-vega": "#75cd2035-e705-405a-a304-ef015980b6fa"
     },
     "output_type": "display_data"
    }
   ],
   "source": [
    "nl4dv_instance.render_vis(\"fantasy movies\")"
   ]
  },
  {
   "cell_type": "code",
   "execution_count": 4,
   "metadata": {
    "collapsed": true
   },
   "outputs": [
    {
     "name": "stdout",
     "output_type": "stream",
     "text": [
      "a follow up query!\n",
      "-----Data Transform---------\n",
      "[{'filter': {'field': 'Creative Type', 'oneOf': ['Science Fiction']}}]\n"
     ]
    },
    {
     "data": {
      "application/javascript": [
       "const spec = {\"$schema\": \"https://vega.github.io/schema/vega-lite/v4.json\", \"mark\": {\"type\": \"bar\", \"tooltip\": true}, \"encoding\": {\"y\": {\"field\": \"Worldwide Gross\", \"type\": \"quantitative\", \"aggregate\": \"mean\", \"axis\": {\"format\": \"s\"}}, \"x\": {\"field\": \"Genre\", \"type\": \"nominal\"}}, \"transform\": [{\"filter\": {\"field\": \"Creative Type\", \"oneOf\": [\"Science Fiction\"]}}], \"data\": {\"url\": \"../../assets/data/movies-w-year.csv\", \"format\": {\"type\": \"csv\"}}};\n",
       "const opt = {};\n",
       "const type = \"vega-lite\";\n",
       "const id = \"d374496d-acd5-4ffb-8d74-b876a03419d5\";\n",
       "\n",
       "const output_area = this;\n",
       "\n",
       "require([\"nbextensions/jupyter-vega/index\"], function(vega) {\n",
       "  const target = document.createElement(\"div\");\n",
       "  target.id = id;\n",
       "  target.className = \"vega-embed\";\n",
       "\n",
       "  const style = document.createElement(\"style\");\n",
       "  style.textContent = [\n",
       "    \".vega-embed .error p {\",\n",
       "    \"  color: firebrick;\",\n",
       "    \"  font-size: 14px;\",\n",
       "    \"}\",\n",
       "  ].join(\"\\\\n\");\n",
       "\n",
       "  // element is a jQuery wrapped DOM element inside the output area\n",
       "  // see http://ipython.readthedocs.io/en/stable/api/generated/\\\n",
       "  // IPython.display.html#IPython.display.Javascript.__init__\n",
       "  element[0].appendChild(target);\n",
       "  element[0].appendChild(style);\n",
       "\n",
       "  vega.render(\"#\" + id, spec, type, opt, output_area);\n",
       "}, function (err) {\n",
       "  if (err.requireType !== \"scripterror\") {\n",
       "    throw(err);\n",
       "  }\n",
       "});\n"
      ],
      "text/plain": [
       "<vega.vegalite.VegaLite at 0x7f8b10068670>"
      ]
     },
     "execution_count": 4,
     "metadata": {
      "jupyter-vega": "#d374496d-acd5-4ffb-8d74-b876a03419d5"
     },
     "output_type": "execute_result"
    },
    {
     "data": {
      "image/png": "[encoded data removed]"
     },
     "metadata": {
      "jupyter-vega": "#d374496d-acd5-4ffb-8d74-b876a03419d5"
     },
     "output_type": "display_data"
    }
   ],
   "source": [
    "nl4dv_instance.render_vis(\"science fiction\")"
   ]
  },
  {
   "cell_type": "code",
   "execution_count": 4,
   "metadata": {
    "collapsed": true
   },
   "outputs": [
    {
     "name": "stdout",
     "output_type": "stream",
     "text": [
      "a follow up query!\n",
      "-----Data Transform---------\n",
      "[{'filter': {'field': 'Creative Type', 'oneOf': ['Science Fiction']}}, {'filter': {'field': 'Creative Type', 'oneOf': ['Fantasy']}}, {'filter': 'lower(datum[\"Worldwide Gross\"]) > 100000000.0'}]\n"
     ]
    },
    {
     "data": {
      "application/javascript": [
       "const spec = {\"$schema\": \"https://vega.github.io/schema/vega-lite/v4.json\", \"mark\": {\"type\": \"bar\", \"tooltip\": true}, \"encoding\": {\"y\": {\"field\": \"Worldwide Gross\", \"type\": \"quantitative\", \"aggregate\": \"mean\", \"axis\": {\"format\": \"s\"}}, \"x\": {\"field\": \"Genre\", \"type\": \"nominal\"}}, \"transform\": [{\"filter\": {\"field\": \"Creative Type\", \"oneOf\": [\"Science Fiction\"]}}, {\"filter\": {\"field\": \"Creative Type\", \"oneOf\": [\"Fantasy\"]}}, {\"filter\": \"lower(datum[\\\"Worldwide Gross\\\"]) > 100000000.0\"}], \"data\": {\"url\": \"../../assets/data/movies-w-year.csv\", \"format\": {\"type\": \"csv\"}}};\n",
       "const opt = {};\n",
       "const type = \"vega-lite\";\n",
       "const id = \"2fdef978-88fe-4b68-b5b8-3187fc78efcd\";\n",
       "\n",
       "const output_area = this;\n",
       "\n",
       "require([\"nbextensions/jupyter-vega/index\"], function(vega) {\n",
       "  const target = document.createElement(\"div\");\n",
       "  target.id = id;\n",
       "  target.className = \"vega-embed\";\n",
       "\n",
       "  const style = document.createElement(\"style\");\n",
       "  style.textContent = [\n",
       "    \".vega-embed .error p {\",\n",
       "    \"  color: firebrick;\",\n",
       "    \"  font-size: 14px;\",\n",
       "    \"}\",\n",
       "  ].join(\"\\\\n\");\n",
       "\n",
       "  // element is a jQuery wrapped DOM element inside the output area\n",
       "  // see http://ipython.readthedocs.io/en/stable/api/generated/\\\n",
       "  // IPython.display.html#IPython.display.Javascript.__init__\n",
       "  element[0].appendChild(target);\n",
       "  element[0].appendChild(style);\n",
       "\n",
       "  vega.render(\"#\" + id, spec, type, opt, output_area);\n",
       "}, function (err) {\n",
       "  if (err.requireType !== \"scripterror\") {\n",
       "    throw(err);\n",
       "  }\n",
       "});\n"
      ],
      "text/plain": [
       "<vega.vegalite.VegaLite at 0x7fc6783f7ee0>"
      ]
     },
     "execution_count": 4,
     "metadata": {
      "jupyter-vega": "#2fdef978-88fe-4b68-b5b8-3187fc78efcd"
     },
     "output_type": "execute_result"
    },
    {
     "data": {
      "image/png": "[encoded data removed]"
     },
     "metadata": {
      "jupyter-vega": "#2fdef978-88fe-4b68-b5b8-3187fc78efcd"
     },
     "output_type": "display_data"
    }
   ],
   "source": [
    "nl4dv_instance.render_vis(\"gross over 100M\")\n",
    "# nl4dv_instance.render_vis(\"glloss over 100M\")"
   ]
  },
  {
   "cell_type": "markdown",
   "metadata": {},
   "source": [
    "## Dialog test2 "
   ]
  },
  {
   "cell_type": "code",
   "execution_count": 1,
   "metadata": {},
   "outputs": [
    {
     "name": "stdout",
     "output_type": "stream",
     "text": [
      "normal query\n",
      "-----Data Transform---------\n",
      "[{'filter': {'field': 'Creative Type', 'oneOf': ['Science Fiction']}}]\n"
     ]
    },
    {
     "data": {
      "application/javascript": [
       "const spec = {\"$schema\": \"https://vega.github.io/schema/vega-lite/v4.json\", \"mark\": {\"type\": \"bar\", \"tooltip\": true}, \"encoding\": {\"y\": {\"field\": \"Worldwide Gross\", \"type\": \"quantitative\", \"aggregate\": \"mean\", \"axis\": {\"format\": \"s\"}}, \"x\": {\"field\": \"Genre\", \"type\": \"nominal\"}}, \"transform\": [{\"filter\": {\"field\": \"Creative Type\", \"oneOf\": [\"Science Fiction\"]}}], \"data\": {\"url\": \"../../assets/data/movies-w-year.csv\", \"format\": {\"type\": \"csv\"}}};\n",
       "const opt = {};\n",
       "const type = \"vega-lite\";\n",
       "const id = \"513cea4a-1de8-404f-b5f1-1ea8f7b56b86\";\n",
       "\n",
       "const output_area = this;\n",
       "\n",
       "require([\"nbextensions/jupyter-vega/index\"], function(vega) {\n",
       "  const target = document.createElement(\"div\");\n",
       "  target.id = id;\n",
       "  target.className = \"vega-embed\";\n",
       "\n",
       "  const style = document.createElement(\"style\");\n",
       "  style.textContent = [\n",
       "    \".vega-embed .error p {\",\n",
       "    \"  color: firebrick;\",\n",
       "    \"  font-size: 14px;\",\n",
       "    \"}\",\n",
       "  ].join(\"\\\\n\");\n",
       "\n",
       "  // element is a jQuery wrapped DOM element inside the output area\n",
       "  // see http://ipython.readthedocs.io/en/stable/api/generated/\\\n",
       "  // IPython.display.html#IPython.display.Javascript.__init__\n",
       "  element[0].appendChild(target);\n",
       "  element[0].appendChild(style);\n",
       "\n",
       "  vega.render(\"#\" + id, spec, type, opt, output_area);\n",
       "}, function (err) {\n",
       "  if (err.requireType !== \"scripterror\") {\n",
       "    throw(err);\n",
       "  }\n",
       "});\n"
      ],
      "text/plain": [
       "<vega.vegalite.VegaLite at 0x7f86f91a70d0>"
      ]
     },
     "execution_count": 1,
     "metadata": {
      "jupyter-vega": "#513cea4a-1de8-404f-b5f1-1ea8f7b56b86"
     },
     "output_type": "execute_result"
    },
    {
     "data": {
      "image/png": "[encoded data removed]"
     },
     "metadata": {
      "jupyter-vega": "#513cea4a-1de8-404f-b5f1-1ea8f7b56b86"
     },
     "output_type": "display_data"
    }
   ],
   "source": [
    "import os\n",
    "import pdb\n",
    "from nl4dv import NL4DV\n",
    "\n",
    "nl4dv_instance = NL4DV(debug=False,verbose=False,alias_url=os.path.join(\"..\",\"..\",\"assets\",\"aliases\",\"movies-w-year.json\"),data_url=os.path.join(\"..\",\"..\",\"assets\",\"data\",\"movies-w-year.csv\"))\n",
    "dependency_parser_config = {'name': 'corenlp','model': os.path.join(\"..\",\"..\",\"assets\",\"jars\",\"stanford-english-corenlp-2018-10-05-models.jar\"),'parser': os.path.join(\"..\",\"..\",\"assets\",\"jars\",\"stanford-parser.jar\")}\n",
    "nl4dv_instance.set_dependency_parser(config=dependency_parser_config)\n",
    "# nl4dv_instance.analyze_query(\"Show the relationship between budget and rating for Action and movies that grossed over 100M\")\n",
    "# nl4dv_instance.render_vis(\"Show average gross across genres for science fiction\")\n",
    "# nl4dv_instance.render_vis(\"fantasy movies\")\n",
    "# nl4dv_instance.render_vis(\"science fiction\")\n",
    "# nl4dv_instance.render_vis(\"create a barchart showing average gross across genres\")\n",
    "nl4dv_instance.render_vis(\"Show average gross across genres for science fiction\")\n",
    "# nl4dv_instance.render_vis(\"Show average gross across genres for science fiction\")\n"
   ]
  },
  {
   "cell_type": "code",
   "execution_count": 2,
   "metadata": {},
   "outputs": [
    {
     "name": "stdout",
     "output_type": "stream",
     "text": [
      "a follow up query!\n",
      "-----Data Transform---------\n",
      "[{'filter': {'field': 'Creative Type', 'oneOf': ['Science Fiction']}}, {'filter': 'lower(datum[\"Worldwide Gross\"]) > 100000000.0'}]\n"
     ]
    },
    {
     "data": {
      "application/javascript": [
       "const spec = {\"$schema\": \"https://vega.github.io/schema/vega-lite/v4.json\", \"mark\": {\"type\": \"bar\", \"tooltip\": true}, \"encoding\": {\"y\": {\"field\": \"Worldwide Gross\", \"type\": \"quantitative\", \"aggregate\": \"mean\", \"axis\": {\"format\": \"s\"}}, \"x\": {\"field\": \"Genre\", \"type\": \"nominal\"}}, \"transform\": [{\"filter\": {\"field\": \"Creative Type\", \"oneOf\": [\"Science Fiction\"]}}, {\"filter\": \"lower(datum[\\\"Worldwide Gross\\\"]) > 100000000.0\"}], \"data\": {\"url\": \"../../assets/data/movies-w-year.csv\", \"format\": {\"type\": \"csv\"}}};\n",
       "const opt = {};\n",
       "const type = \"vega-lite\";\n",
       "const id = \"45dae7b3-6722-4671-a5d6-0a98fa654595\";\n",
       "\n",
       "const output_area = this;\n",
       "\n",
       "require([\"nbextensions/jupyter-vega/index\"], function(vega) {\n",
       "  const target = document.createElement(\"div\");\n",
       "  target.id = id;\n",
       "  target.className = \"vega-embed\";\n",
       "\n",
       "  const style = document.createElement(\"style\");\n",
       "  style.textContent = [\n",
       "    \".vega-embed .error p {\",\n",
       "    \"  color: firebrick;\",\n",
       "    \"  font-size: 14px;\",\n",
       "    \"}\",\n",
       "  ].join(\"\\\\n\");\n",
       "\n",
       "  // element is a jQuery wrapped DOM element inside the output area\n",
       "  // see http://ipython.readthedocs.io/en/stable/api/generated/\\\n",
       "  // IPython.display.html#IPython.display.Javascript.__init__\n",
       "  element[0].appendChild(target);\n",
       "  element[0].appendChild(style);\n",
       "\n",
       "  vega.render(\"#\" + id, spec, type, opt, output_area);\n",
       "}, function (err) {\n",
       "  if (err.requireType !== \"scripterror\") {\n",
       "    throw(err);\n",
       "  }\n",
       "});\n"
      ],
      "text/plain": [
       "<vega.vegalite.VegaLite at 0x7f86e94ab970>"
      ]
     },
     "execution_count": 2,
     "metadata": {
      "jupyter-vega": "#45dae7b3-6722-4671-a5d6-0a98fa654595"
     },
     "output_type": "execute_result"
    },
    {
     "data": {
      "image/png": "[encoded data removed]"
     },
     "metadata": {
      "jupyter-vega": "#45dae7b3-6722-4671-a5d6-0a98fa654595"
     },
     "output_type": "display_data"
    }
   ],
   "source": [
    "# nl4dv_instance.render_vis(\"gross over 200M\")\n",
    "nl4dv_instance.render_vis(\"gross over 100M\")"
   ]
  },
  {
   "cell_type": "code",
   "execution_count": null,
   "metadata": {},
   "outputs": [],
   "source": [
    "## Dialog test END"
   ]
  },
  {
   "cell_type": "code",
   "execution_count": null,
   "metadata": {},
   "outputs": [],
   "source": [
    "nl4dv_instance.render_vis(\"Create a histogram showing distribution of IMDB ratings\")"
   ]
  },
  {
   "cell_type": "code",
   "execution_count": 5,
   "metadata": {},
   "outputs": [
    {
     "data": {
      "application/javascript": [
       "const spec = {\"$schema\": \"https://vega.github.io/schema/vega-lite/v4.json\", \"mark\": {\"type\": \"tick\", \"tooltip\": true}, \"encoding\": {\"x\": {\"field\": \"Worldwide Gross\", \"type\": \"quantitative\", \"aggregate\": null, \"axis\": {\"format\": \"s\"}}, \"tooltip\": {\"field\": \"Title\"}}, \"transform\": [], \"data\": {\"url\": \"../../assets/data/movies-w-year.csv\", \"format\": {\"type\": \"csv\"}}};\n",
       "const opt = {};\n",
       "const type = \"vega-lite\";\n",
       "const id = \"e53119d0-76c2-4026-b2d7-bdc661c2c023\";\n",
       "\n",
       "const output_area = this;\n",
       "\n",
       "require([\"nbextensions/jupyter-vega/index\"], function(vega) {\n",
       "  const target = document.createElement(\"div\");\n",
       "  target.id = id;\n",
       "  target.className = \"vega-embed\";\n",
       "\n",
       "  const style = document.createElement(\"style\");\n",
       "  style.textContent = [\n",
       "    \".vega-embed .error p {\",\n",
       "    \"  color: firebrick;\",\n",
       "    \"  font-size: 14px;\",\n",
       "    \"}\",\n",
       "  ].join(\"\\\\n\");\n",
       "\n",
       "  // element is a jQuery wrapped DOM element inside the output area\n",
       "  // see http://ipython.readthedocs.io/en/stable/api/generated/\\\n",
       "  // IPython.display.html#IPython.display.Javascript.__init__\n",
       "  element[0].appendChild(target);\n",
       "  element[0].appendChild(style);\n",
       "\n",
       "  vega.render(\"#\" + id, spec, type, opt, output_area);\n",
       "}, function (err) {\n",
       "  if (err.requireType !== \"scripterror\") {\n",
       "    throw(err);\n",
       "  }\n",
       "});\n"
      ],
      "text/plain": [
       "<vega.vegalite.VegaLite at 0x11fca1320>"
      ]
     },
     "execution_count": 5,
     "metadata": {
      "jupyter-vega": "#e53119d0-76c2-4026-b2d7-bdc661c2c023"
     },
     "output_type": "execute_result"
    },
    {
     "data": {
      "image/png": "[encoded data removed]"
     },
     "metadata": {
      "jupyter-vega": "#e53119d0-76c2-4026-b2d7-bdc661c2c023"
     },
     "output_type": "display_data"
    }
   ],
   "source": [
    "nl4dv_instance.render_vis(\"gross as a stripplot\")"
   ]
  },
  {
   "cell_type": "code",
   "execution_count": 6,
   "metadata": {
    "collapsed": true
   },
   "outputs": [
    {
     "data": {
      "application/javascript": [
       "const spec = {\"$schema\": \"https://vega.github.io/schema/vega-lite/v4.json\", \"mark\": {\"type\": \"boxplot\", \"tooltip\": true}, \"encoding\": {\"x\": {\"field\": \"Production Budget\", \"type\": \"quantitative\", \"aggregate\": null, \"axis\": {\"format\": \"s\"}}, \"tooltip\": {\"field\": \"Title\"}}, \"transform\": [], \"data\": {\"url\": \"../../assets/data/movies-w-year.csv\", \"format\": {\"type\": \"csv\"}}};\n",
       "const opt = {};\n",
       "const type = \"vega-lite\";\n",
       "const id = \"058a399d-8997-478e-b7a0-934481c7a0fa\";\n",
       "\n",
       "const output_area = this;\n",
       "\n",
       "require([\"nbextensions/jupyter-vega/index\"], function(vega) {\n",
       "  const target = document.createElement(\"div\");\n",
       "  target.id = id;\n",
       "  target.className = \"vega-embed\";\n",
       "\n",
       "  const style = document.createElement(\"style\");\n",
       "  style.textContent = [\n",
       "    \".vega-embed .error p {\",\n",
       "    \"  color: firebrick;\",\n",
       "    \"  font-size: 14px;\",\n",
       "    \"}\",\n",
       "  ].join(\"\\\\n\");\n",
       "\n",
       "  // element is a jQuery wrapped DOM element inside the output area\n",
       "  // see http://ipython.readthedocs.io/en/stable/api/generated/\\\n",
       "  // IPython.display.html#IPython.display.Javascript.__init__\n",
       "  element[0].appendChild(target);\n",
       "  element[0].appendChild(style);\n",
       "\n",
       "  vega.render(\"#\" + id, spec, type, opt, output_area);\n",
       "}, function (err) {\n",
       "  if (err.requireType !== \"scripterror\") {\n",
       "    throw(err);\n",
       "  }\n",
       "});\n"
      ],
      "text/plain": [
       "<vega.vegalite.VegaLite at 0x1211aa908>"
      ]
     },
     "execution_count": 6,
     "metadata": {
      "jupyter-vega": "#058a399d-8997-478e-b7a0-934481c7a0fa"
     },
     "output_type": "execute_result"
    },
    {
     "data": {
      "image/png": "[encoded data removed]"
     },
     "metadata": {
      "jupyter-vega": "#058a399d-8997-478e-b7a0-934481c7a0fa"
     },
     "output_type": "display_data"
    }
   ],
   "source": [
    "nl4dv_instance.render_vis(\"budget as a boxplot\")"
   ]
  },
  {
   "cell_type": "code",
   "execution_count": 11,
   "metadata": {},
   "outputs": [
    {
     "name": "stdout",
     "output_type": "stream",
     "text": [
      "[[(('movies', 'NNS'), 'case', ('for', 'IN')),\n",
      "  (('movies', 'NNS'), 'compound', ('sciencefiction', 'NN')),\n",
      "  (('sciencefiction', 'NN'), 'cc', ('and', 'CC')),\n",
      "  (('sciencefiction', 'NN'), 'conj', ('fantasy', 'NN'))]]\n"
     ]
    },
    {
     "data": {
      "text/plain": [
       "{'query_raw': 'for science fiction and fantasy movies',\n",
       " 'query': 'for science fiction and fantasy movies',\n",
       " 'dataset': '../../assets/data/movies-w-year.csv',\n",
       " 'alias': '../../assets/aliases/movies-w-year.json',\n",
       " 'visList': [{'attributes': ['Title'],\n",
       "   'queryPhrase': None,\n",
       "   'visType': None,\n",
       "   'tasks': ['filter'],\n",
       "   'inferenceType': 'implicit',\n",
       "   'vlSpec': {'$schema': 'https://vega.github.io/schema/vega-lite/v4.json',\n",
       "    'mark': {'type': 'bar', 'tooltip': True},\n",
       "    'encoding': {'x': {'field': 'Title', 'type': 'nominal'},\n",
       "     'y': {'field': 'Title', 'type': 'nominal', 'aggregate': 'count'}},\n",
       "    'transform': [{'filter': {'field': 'Creative Type',\n",
       "       'oneOf': ['Science Fiction', 'Fantasy']}}],\n",
       "    'data': {'url': '../../assets/data/movies-w-year.csv',\n",
       "     'format': {'type': 'csv'}}}}],\n",
       " 'attributeMap': {'Creative Type': {'name': 'Creative Type',\n",
       "   'queryPhrase': ['science fiction', 'fantasy'],\n",
       "   'inferenceType': 'implicit',\n",
       "   'isAmbiguous': False,\n",
       "   'ambiguity': []},\n",
       "  'Title': {'name': 'Title',\n",
       "   'queryPhrase': None,\n",
       "   'inferenceType': 'implicit',\n",
       "   'isAmbiguous': False,\n",
       "   'ambiguity': []}},\n",
       " 'taskMap': {'filter': [{'task': 'filter',\n",
       "    'queryPhrase': ['science fiction', 'fantasy'],\n",
       "    'operator': 'IN',\n",
       "    'values': ['Science Fiction', 'Fantasy'],\n",
       "    'attributes': ['Creative Type'],\n",
       "    'inferenceType': 'explicit'}]},\n",
       " 'followUpQuery': False,\n",
       " 'contextObj': None}"
      ]
     },
     "execution_count": 11,
     "metadata": {},
     "output_type": "execute_result"
    }
   ],
   "source": [
    "nl4dv_instance.analyze_query(\"for science fiction and fantasy movies\")"
   ]
  },
  {
   "cell_type": "code",
   "execution_count": 2,
   "metadata": {},
   "outputs": [
    {
     "data": {
      "application/javascript": [
       "const spec = {\"$schema\": \"https://vega.github.io/schema/vega-lite/v4.json\", \"mark\": {\"type\": \"point\", \"tooltip\": true}, \"encoding\": {\"x\": {\"field\": \"Production Budget\", \"type\": \"quantitative\", \"axis\": {\"format\": \"s\"}}, \"y\": {\"field\": \"IMDB Rating\", \"type\": \"quantitative\", \"axis\": {\"format\": \"s\"}}, \"tooltip\": {\"field\": \"Title\"}}, \"transform\": [], \"data\": {\"url\": \"../../assets/data/movies-w-year.csv\", \"format\": {\"type\": \"csv\"}}};\n",
       "const opt = {};\n",
       "const type = \"vega-lite\";\n",
       "const id = \"4b1a02db-9fd6-43e0-b0dd-864bee4b0be0\";\n",
       "\n",
       "const output_area = this;\n",
       "\n",
       "require([\"nbextensions/jupyter-vega/index\"], function(vega) {\n",
       "  const target = document.createElement(\"div\");\n",
       "  target.id = id;\n",
       "  target.className = \"vega-embed\";\n",
       "\n",
       "  const style = document.createElement(\"style\");\n",
       "  style.textContent = [\n",
       "    \".vega-embed .error p {\",\n",
       "    \"  color: firebrick;\",\n",
       "    \"  font-size: 14px;\",\n",
       "    \"}\",\n",
       "  ].join(\"\\\\n\");\n",
       "\n",
       "  // element is a jQuery wrapped DOM element inside the output area\n",
       "  // see http://ipython.readthedocs.io/en/stable/api/generated/\\\n",
       "  // IPython.display.html#IPython.display.Javascript.__init__\n",
       "  element[0].appendChild(target);\n",
       "  element[0].appendChild(style);\n",
       "\n",
       "  vega.render(\"#\" + id, spec, type, opt, output_area);\n",
       "}, function (err) {\n",
       "  if (err.requireType !== \"scripterror\") {\n",
       "    throw(err);\n",
       "  }\n",
       "});\n"
      ],
      "text/plain": [
       "<vega.vegalite.VegaLite at 0x7fba48d4db80>"
      ]
     },
     "execution_count": 2,
     "metadata": {
      "jupyter-vega": "#4b1a02db-9fd6-43e0-b0dd-864bee4b0be0"
     },
     "output_type": "execute_result"
    },
    {
     "data": {
      "image/png": "[encoded data removed]"
     },
     "metadata": {
      "jupyter-vega": "#4b1a02db-9fd6-43e0-b0dd-864bee4b0be0"
     },
     "output_type": "display_data"
    }
   ],
   "source": [
    "nl4dv_instance.render_vis(\"Visualize rating and budget\")"
   ]
  },
  {
   "cell_type": "code",
   "execution_count": 7,
   "metadata": {},
   "outputs": [
    {
     "name": "stdout",
     "output_type": "stream",
     "text": [
      "[[(('show', 'VB'), 'dobj', ('relationship', 'NN')),\n",
      "  (('relationship', 'NN'), 'det', ('the', 'DT')),\n",
      "  (('relationship', 'NN'), 'nmod', ('budget', 'NN')),\n",
      "  (('budget', 'NN'), 'case', ('between', 'IN')),\n",
      "  (('budget', 'NN'), 'cc', ('and', 'CC')),\n",
      "  (('budget', 'NN'), 'conj', ('rating', 'NN')),\n",
      "  (('budget', 'NN'), 'nmod', ('movies', 'NNS')),\n",
      "  (('movies', 'NNS'), 'case', ('for', 'IN')),\n",
      "  (('movies', 'NNS'), 'compound', ('action', 'NN')),\n",
      "  (('action', 'NN'), 'cc', ('and', 'CC')),\n",
      "  (('action', 'NN'), 'conj', ('adventure', 'NN')),\n",
      "  (('relationship', 'NN'), 'acl:relcl', ('grossed', 'VBN')),\n",
      "  (('grossed', 'VBN'), 'nsubj', ('that', 'WDT')),\n",
      "  (('grossed', 'VBN'), 'nmod', ('100000000', 'CD')),\n",
      "  (('100000000', 'CD'), 'case', ('over', 'IN'))]]\n"
     ]
    },
    {
     "data": {
      "application/javascript": [
       "const spec = {\"$schema\": \"https://vega.github.io/schema/vega-lite/v4.json\", \"mark\": {\"type\": \"point\", \"tooltip\": true}, \"encoding\": {\"x\": {\"field\": \"Production Budget\", \"type\": \"quantitative\", \"axis\": {\"format\": \"s\"}}, \"y\": {\"field\": \"IMDB Rating\", \"type\": \"quantitative\", \"axis\": {\"format\": \"s\"}}, \"tooltip\": {\"field\": \"Title\"}}, \"transform\": [{\"filter\": \"lower(datum[\\\"Worldwide Gross\\\"]) > 100000000.0\"}, {\"filter\": {\"field\": \"Genre\", \"oneOf\": [\"Action\", \"Adventure\"]}}], \"data\": {\"url\": \"../../assets/data/movies-w-year.csv\", \"format\": {\"type\": \"csv\"}}};\n",
       "const opt = {};\n",
       "const type = \"vega-lite\";\n",
       "const id = \"c3842a3d-7f0e-461f-a46b-92d626247878\";\n",
       "\n",
       "const output_area = this;\n",
       "\n",
       "require([\"nbextensions/jupyter-vega/index\"], function(vega) {\n",
       "  const target = document.createElement(\"div\");\n",
       "  target.id = id;\n",
       "  target.className = \"vega-embed\";\n",
       "\n",
       "  const style = document.createElement(\"style\");\n",
       "  style.textContent = [\n",
       "    \".vega-embed .error p {\",\n",
       "    \"  color: firebrick;\",\n",
       "    \"  font-size: 14px;\",\n",
       "    \"}\",\n",
       "  ].join(\"\\\\n\");\n",
       "\n",
       "  // element is a jQuery wrapped DOM element inside the output area\n",
       "  // see http://ipython.readthedocs.io/en/stable/api/generated/\\\n",
       "  // IPython.display.html#IPython.display.Javascript.__init__\n",
       "  element[0].appendChild(target);\n",
       "  element[0].appendChild(style);\n",
       "\n",
       "  vega.render(\"#\" + id, spec, type, opt, output_area);\n",
       "}, function (err) {\n",
       "  if (err.requireType !== \"scripterror\") {\n",
       "    throw(err);\n",
       "  }\n",
       "});\n"
      ],
      "text/plain": [
       "<vega.vegalite.VegaLite at 0x7fdce95eff40>"
      ]
     },
     "execution_count": 7,
     "metadata": {
      "jupyter-vega": "#c3842a3d-7f0e-461f-a46b-92d626247878"
     },
     "output_type": "execute_result"
    },
    {
     "data": {
      "image/png": "[encoded data removed]"
     },
     "metadata": {
      "jupyter-vega": "#c3842a3d-7f0e-461f-a46b-92d626247878"
     },
     "output_type": "display_data"
    }
   ],
   "source": [
    "nl4dv_instance.render_vis(\"show the relationship between budget and rating for action and adventure movies that grossed over 100M\")"
   ]
  },
  {
   "cell_type": "code",
   "execution_count": null,
   "metadata": {},
   "outputs": [],
   "source": []
  }
 ],
 "metadata": {
  "kernelspec": {
   "display_name": "Python 3",
   "language": "python",
   "name": "python3"
  },
  "language_info": {
   "codemirror_mode": {
    "name": "ipython",
    "version": 3
   },
   "file_extension": ".py",
   "mimetype": "text/x-python",
   "name": "python",
   "nbconvert_exporter": "python",
   "pygments_lexer": "ipython3",
   "version": "3.8.5"
  }
 },
 "nbformat": 4,
 "nbformat_minor": 4
}
