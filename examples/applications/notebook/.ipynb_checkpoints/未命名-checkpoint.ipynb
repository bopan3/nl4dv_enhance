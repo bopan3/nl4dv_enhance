{
 "cells": [
  {
   "cell_type": "markdown",
   "metadata": {
    "toc": true
   },
   "source": [
    "<h1>Table of Contents<span class=\"tocSkip\"></span></h1>\n",
    "<div class=\"toc\"><ul class=\"toc-item\"></ul></div>"
   ]
  },
  {
   "cell_type": "code",
   "execution_count": 2,
   "metadata": {},
   "outputs": [
    {
     "name": "stdout",
     "output_type": "stream",
     "text": [
      "dev distribution:\n",
      "\u001b[0;30;47mundefined: a new nl4dv instance\u001b[0m\n"
     ]
    }
   ],
   "source": [
    "import sys  \n",
    "import os\n",
    "sys.path.append(\"../../../\")\n",
    "from nl4dv import NL4DV\n",
    "import csv \n",
    "from vega import VegaLite\n",
    "import json\n",
    "nl4dv_instance = NL4DV(debug=False,verbose=False,alias_url=os.path.join(\"..\",\"..\",\"assets\",\"aliases\",\"movies-w-year.json\"),data_url=os.path.join(\"..\",\"..\",\"assets\",\"data\",\"movies-w-year.csv\"))\n",
    "dependency_parser_config = {'name': 'corenlp','model': os.path.join(\"..\",\"..\",\"assets\",\"jars\",\"stanford-english-corenlp-2018-10-05-models.jar\"),'parser': os.path.join(\"..\",\"..\",\"assets\",\"jars\",\"stanford-parser.jar\")}\n",
    "nl4dv_instance.set_dependency_parser(config=dependency_parser_config)"
   ]
  },
  {
   "cell_type": "code",
   "execution_count": 3,
   "metadata": {},
   "outputs": [
    {
     "name": "stdout",
     "output_type": "stream",
     "text": [
      "\u001b[0;30;47mclue: extract explicit attribute(['Production Budget', 'Creative Type', 'Content Rating', 'Rotten Tomatoes Rating', 'IMDB Rating'])\u001b[0m\n",
      "\u001b[0;32;47mattribute info: \u001b[0m\n",
      "\u001b[0;32;47mfor keyword production budget, it maps to the following 1 attribute:\u001b[0m\n",
      "\u001b[1;32;47m  Production Budget(Q)\u001b[0m\u001b[0;32;47m: matchScore = 1, metric = ['attribute_exact_match']\u001b[0m\n",
      "\u001b[0;32;47mfor keyword creative type, it maps to the following 1 attribute:\u001b[0m\n",
      "\u001b[1;32;47m  Creative Type(N)\u001b[0m\u001b[0;32;47m: matchScore = 1, metric = ['attribute_exact_match']\u001b[0m\n",
      "\u001b[0;32;47mfor keyword rating, it maps to the following 3 attribute:\u001b[0m\n",
      "\u001b[1;32;47m  Content Rating(N)\u001b[0m\u001b[0;32;47m: matchScore = 0.9, metric = ['attribute_similarity_match']\u001b[0m\n",
      "\u001b[1;32;47m  Rotten Tomatoes Rating(Q)\u001b[0m\u001b[0;32;47m: matchScore = 0.9, metric = ['attribute_similarity_match']\u001b[0m\n",
      "\u001b[1;32;47m  IMDB Rating(Q)\u001b[0m\u001b[0;32;47m: matchScore = 0.9, metric = ['attribute_similarity_match']\u001b[0m\n",
      "\u001b[0;30;47mclue: extract explicit vis type(barchart)\u001b[0m\n",
      "\u001b[0;30;47mmissing: cannot extract any explicit 'dependency analysis' task\u001b[0m\n",
      "\u001b[0;30;47mmissing: cannot extract any explicit 'domain_value filter' task\u001b[0m\n",
      "\u001b[0;30;47mimplicit inference: guess the task is derived_value since we detect sorted_attr_datatype_combo_str(QNN)\u001b[0m\n",
      "\u001b[0;32;47mtask info (implicit guess): \u001b[0m\n",
      "\u001b[1;32;47m  derived_value(queryPhrase == [])\u001b[0m\u001b[0;32;47m: matchScore = 0.5, attributes = ['Production Budget'], operator = AVG, values = None\u001b[0m\n",
      "\u001b[0;30;47mimplicit inference: guess the task is correlation since we detect sorted_attr_datatype_combo_str(QQN)\u001b[0m\n",
      "\u001b[0;30;47mimplicit inference: guess the task is correlation since we detect sorted_attr_datatype_combo_str(QQN)\u001b[0m\n",
      "\u001b[0;30;47mclue: design for QNN(support task ['derived_value', 'distribution']) support at least one task in (['derived_value', 'correlation'])\u001b[0m\n",
      "\u001b[0;30;47mSUCCESS: for design[0](barchart), this design is append with score 6.9\u001b[0m\n",
      "\u001b[0;30;47mimplicit inference: for design[1](barchart), since mandatory channel color is not defined by any specific attribute, automatically use the attribute of the channel column and aggregation is None\u001b[0m\n",
      "\u001b[0;30;47mSUCCESS: for design[1](barchart), this design is append with score 6.9\u001b[0m\n",
      "\u001b[0;30;47munmatch: for design[3](stripplot), directly give up this design since we have other design that can match the task better\u001b[0m\n",
      "\u001b[0;30;47munmatch: for design[4](stripplot), directly give up this design since we have other design that can match the task better\u001b[0m\n",
      "\u001b[0;30;47munmatch: for design[5](stripplot), directly give up this design since we have other design that can match the task better\u001b[0m\n",
      "\u001b[0;30;47mclue: design for QQN(support task ['correlation', 'distribution']) support at least one task in (['derived_value', 'correlation'])\u001b[0m\n",
      "\u001b[0;30;47munmatch: design for QQN does not support any extracted explicit vis type(barchart)\u001b[0m\n",
      "\u001b[0;30;47mSUCCESS: for design[0](scatterplot), this design is append with score 7.26\u001b[0m\n",
      "\u001b[0;30;47mimplicit inference: for design[1](scatterplot), since mandatory channel color is not defined by any specific attribute, automatically use the attribute of the channel column and aggregation is None\u001b[0m\n",
      "\u001b[0;30;47mSUCCESS: for design[1](scatterplot), this design is append with score 7.26\u001b[0m\n",
      "\u001b[0;30;47munmatch: for design[2](stripplot), directly give up this design since we have other design that can match the task better\u001b[0m\n",
      "\u001b[0;30;47mclue: design for QQN(support task ['correlation', 'distribution']) support at least one task in (['derived_value', 'correlation'])\u001b[0m\n",
      "\u001b[0;30;47munmatch: design for QQN does not support any extracted explicit vis type(barchart)\u001b[0m\n",
      "\u001b[0;30;47mSUCCESS: for design[0](scatterplot), this design is append with score 7.49\u001b[0m\n",
      "\u001b[0;30;47mimplicit inference: for design[1](scatterplot), since mandatory channel color is not defined by any specific attribute, automatically use the attribute of the channel column and aggregation is None\u001b[0m\n",
      "\u001b[0;30;47mSUCCESS: for design[1](scatterplot), this design is append with score 7.49\u001b[0m\n",
      "\u001b[0;30;47munmatch: for design[2](stripplot), directly give up this design since we have other design that can match the task better\u001b[0m\n"
     ]
    },
    {
     "data": {
      "text/plain": [
       "{'$schema': 'https://vega.github.io/schema/vega-lite/v4.json',\n",
       " 'mark': {'type': 'bar', 'tooltip': True},\n",
       " 'encoding': {'x': {'field': 'Production Budget',\n",
       "   'type': 'quantitative',\n",
       "   'axis': {'format': 's'}},\n",
       "  'y': {'field': 'IMDB Rating',\n",
       "   'type': 'quantitative',\n",
       "   'axis': {'format': 's'}},\n",
       "  'color': {'field': 'Creative Type', 'type': 'nominal'},\n",
       "  'tooltip': {'field': 'Title'}},\n",
       " 'transform': [],\n",
       " 'data': {'url': '../../assets/data/movies-w-year.csv',\n",
       "  'format': {'type': 'csv'}}}"
      ]
     },
     "execution_count": 3,
     "metadata": {},
     "output_type": "execute_result"
    }
   ],
   "source": [
    "nl4dv_instance.analyze_query(query='bar chart for each rating, showing avg production budget per creative type', dialog=False)['visList'][0]['vlSpec']\n",
    "\n",
    "\n",
    "\n"
   ]
  },
  {
   "cell_type": "code",
   "execution_count": 33,
   "metadata": {},
   "outputs": [
    {
     "data": {
      "application/javascript": [
       "const spec = {\"$schema\": \"https://vega.github.io/schema/vega-lite/v4.json\", \"mark\": {\"type\": \"bar\", \"tooltip\": true}, \"encoding\": {\"x\": {\"field\": \"Production Budget\", \"type\": \"quantitative\", \"agg\": \"mean\", \"axis\": {\"format\": \"s\"}}, \"y\": {\"field\": \"IMDB Rating\", \"type\": \"quantitative\", \"axis\": {\"format\": \"s\"}}, \"color\": {\"field\": \"Creative Type\", \"type\": \"nominal\", \"agg\": \"mean\"}, \"tooltip\": {\"field\": \"Title\"}}, \"transform\": [], \"data\": {\"url\": \"../../assets/data/movies-w-year.csv\", \"format\": {\"type\": \"csv\"}}};\n",
       "const opt = {};\n",
       "const type = \"vega-lite\";\n",
       "const id = \"e70250de-6b94-4c70-8d12-5c0b8008690e\";\n",
       "\n",
       "const output_area = this;\n",
       "\n",
       "require([\"nbextensions/jupyter-vega/index\"], function(vega) {\n",
       "  const target = document.createElement(\"div\");\n",
       "  target.id = id;\n",
       "  target.className = \"vega-embed\";\n",
       "\n",
       "  const style = document.createElement(\"style\");\n",
       "  style.textContent = [\n",
       "    \".vega-embed .error p {\",\n",
       "    \"  color: firebrick;\",\n",
       "    \"  font-size: 14px;\",\n",
       "    \"}\",\n",
       "  ].join(\"\\\\n\");\n",
       "\n",
       "  // element is a jQuery wrapped DOM element inside the output area\n",
       "  // see http://ipython.readthedocs.io/en/stable/api/generated/\\\n",
       "  // IPython.display.html#IPython.display.Javascript.__init__\n",
       "  element[0].appendChild(target);\n",
       "  element[0].appendChild(style);\n",
       "\n",
       "  vega.render(\"#\" + id, spec, type, opt, output_area);\n",
       "}, function (err) {\n",
       "  if (err.requireType !== \"scripterror\") {\n",
       "    throw(err);\n",
       "  }\n",
       "});\n"
      ],
      "text/plain": [
       "<vega.vegalite.VegaLite at 0x7f8fc1160c70>"
      ]
     },
     "metadata": {
      "jupyter-vega": "#e70250de-6b94-4c70-8d12-5c0b8008690e"
     },
     "output_type": "display_data"
    },
    {
     "data": {
      "image/png": "[encoded data removed]"
     },
     "metadata": {
      "jupyter-vega": "#e70250de-6b94-4c70-8d12-5c0b8008690e"
     },
     "output_type": "display_data"
    }
   ],
   "source": [
    "vs={'$schema': 'https://vega.github.io/schema/vega-lite/v4.json',\n",
    " 'mark': {'type': 'bar', 'tooltip': True},\n",
    " 'encoding': {'x': {'field': 'Production Budget',\n",
    "   'type': 'quantitative', 'agg':'mean',\n",
    "   'axis': {'format': 's'}},\n",
    "  'y': {'field': 'IMDB Rating',\n",
    "   'type': 'quantitative',\n",
    "   'axis': {'format': 's'}},\n",
    "  'color': {'field': 'Creative Type', 'type': 'nominal'},\n",
    "  'tooltip': {'field': 'Title'}},\n",
    " 'transform': [],\n",
    " 'data': {'url': '../../assets/data/movies-w-year.csv',\n",
    "  'format': {'type': 'csv'}}}\n",
    "VegaLite(vs).display()"
   ]
  },
  {
   "cell_type": "code",
   "execution_count": null,
   "metadata": {},
   "outputs": [],
   "source": []
  }
 ],
 "metadata": {
  "kernelspec": {
   "display_name": "Python 3",
   "language": "python",
   "name": "python3"
  },
  "language_info": {
   "codemirror_mode": {
    "name": "ipython",
    "version": 3
   },
   "file_extension": ".py",
   "mimetype": "text/x-python",
   "name": "python",
   "nbconvert_exporter": "python",
   "pygments_lexer": "ipython3",
   "version": "3.8.5"
  },
  "toc": {
   "base_numbering": 1,
   "nav_menu": {},
   "number_sections": true,
   "sideBar": true,
   "skip_h1_title": false,
   "title_cell": "Table of Contents",
   "title_sidebar": "Contents",
   "toc_cell": true,
   "toc_position": {},
   "toc_section_display": true,
   "toc_window_display": true
  }
 },
 "nbformat": 4,
 "nbformat_minor": 4
}
